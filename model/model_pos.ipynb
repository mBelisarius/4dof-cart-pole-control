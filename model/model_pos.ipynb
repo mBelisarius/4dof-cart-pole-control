{
 "nbformat": 4,
 "nbformat_minor": 0,
 "metadata": {
  "colab": {
   "provenance": [],
   "authorship_tag": "ABX9TyMPb1me9HBu/V/0aLhCwxO2"
  },
  "kernelspec": {
   "name": "python3",
   "display_name": "Python 3"
  },
  "language_info": {
   "name": "python"
  },
  "widgets": {
   "application/vnd.jupyter.widget-state+json": {
    "5f10170bd8044d9a8538d3a92dfad649": {
     "model_module": "@jupyter-widgets/controls",
     "model_name": "VBoxModel",
     "model_module_version": "1.5.0",
     "state": {
      "_dom_classes": [],
      "_model_module": "@jupyter-widgets/controls",
      "_model_module_version": "1.5.0",
      "_model_name": "VBoxModel",
      "_view_count": null,
      "_view_module": "@jupyter-widgets/controls",
      "_view_module_version": "1.5.0",
      "_view_name": "VBoxView",
      "box_style": "",
      "children": [
       "IPY_MODEL_f5013b6bb63b4f87996df6d9d8c604da",
       "IPY_MODEL_7757dae08bb84c27952a85c31c92d212",
       "IPY_MODEL_835164cddfc643d7bcac084ee123d6a2"
      ],
      "layout": "IPY_MODEL_d3434de66dd14f1f87cd68a38819f6de"
     }
    },
    "f5013b6bb63b4f87996df6d9d8c604da": {
     "model_module": "@jupyter-widgets/controls",
     "model_name": "FloatSliderModel",
     "model_module_version": "1.5.0",
     "state": {
      "_dom_classes": [],
      "_model_module": "@jupyter-widgets/controls",
      "_model_module_version": "1.5.0",
      "_model_name": "FloatSliderModel",
      "_view_count": null,
      "_view_module": "@jupyter-widgets/controls",
      "_view_module_version": "1.5.0",
      "_view_name": "FloatSliderView",
      "continuous_update": true,
      "description": "Velocity:",
      "description_tooltip": null,
      "disabled": false,
      "layout": "IPY_MODEL_4944d041602240cbade808e67ea448df",
      "max": 150,
      "min": -150,
      "orientation": "horizontal",
      "readout": true,
      "readout_format": ".2f",
      "step": 0.1,
      "style": "IPY_MODEL_cf415f87d22e4d80a3cb2fe54115c85c",
      "value": 0
     }
    },
    "7757dae08bb84c27952a85c31c92d212": {
     "model_module": "@jupyter-widgets/controls",
     "model_name": "FloatSliderModel",
     "model_module_version": "1.5.0",
     "state": {
      "_dom_classes": [],
      "_model_module": "@jupyter-widgets/controls",
      "_model_module_version": "1.5.0",
      "_model_name": "FloatSliderModel",
      "_view_count": null,
      "_view_module": "@jupyter-widgets/controls",
      "_view_module_version": "1.5.0",
      "_view_name": "FloatSliderView",
      "continuous_update": true,
      "description": "Angular velocity:",
      "description_tooltip": null,
      "disabled": false,
      "layout": "IPY_MODEL_229c343f11894a8eace05ff7452a762f",
      "max": 30,
      "min": -30,
      "orientation": "horizontal",
      "readout": true,
      "readout_format": ".2f",
      "step": 0.1,
      "style": "IPY_MODEL_33ba571895c34a869f1d3958eb8a5183",
      "value": 0
     }
    },
    "835164cddfc643d7bcac084ee123d6a2": {
     "model_module": "@jupyter-widgets/controls",
     "model_name": "CheckboxModel",
     "model_module_version": "1.5.0",
     "state": {
      "_dom_classes": [],
      "_model_module": "@jupyter-widgets/controls",
      "_model_module_version": "1.5.0",
      "_model_name": "CheckboxModel",
      "_view_count": null,
      "_view_module": "@jupyter-widgets/controls",
      "_view_module_version": "1.5.0",
      "_view_name": "CheckboxView",
      "description": "Auto-center plot",
      "description_tooltip": null,
      "disabled": false,
      "indent": true,
      "layout": "IPY_MODEL_56528962296b47fa8fc79680b244c937",
      "style": "IPY_MODEL_4be54616d9bc4e22a3449751f1dab3c4",
      "value": true
     }
    },
    "d3434de66dd14f1f87cd68a38819f6de": {
     "model_module": "@jupyter-widgets/base",
     "model_name": "LayoutModel",
     "model_module_version": "1.2.0",
     "state": {
      "_model_module": "@jupyter-widgets/base",
      "_model_module_version": "1.2.0",
      "_model_name": "LayoutModel",
      "_view_count": null,
      "_view_module": "@jupyter-widgets/base",
      "_view_module_version": "1.2.0",
      "_view_name": "LayoutView",
      "align_content": null,
      "align_items": null,
      "align_self": null,
      "border": null,
      "bottom": null,
      "display": null,
      "flex": null,
      "flex_flow": null,
      "grid_area": null,
      "grid_auto_columns": null,
      "grid_auto_flow": null,
      "grid_auto_rows": null,
      "grid_column": null,
      "grid_gap": null,
      "grid_row": null,
      "grid_template_areas": null,
      "grid_template_columns": null,
      "grid_template_rows": null,
      "height": null,
      "justify_content": null,
      "justify_items": null,
      "left": null,
      "margin": null,
      "max_height": null,
      "max_width": null,
      "min_height": null,
      "min_width": null,
      "object_fit": null,
      "object_position": null,
      "order": null,
      "overflow": null,
      "overflow_x": null,
      "overflow_y": null,
      "padding": null,
      "right": null,
      "top": null,
      "visibility": null,
      "width": null
     }
    },
    "4944d041602240cbade808e67ea448df": {
     "model_module": "@jupyter-widgets/base",
     "model_name": "LayoutModel",
     "model_module_version": "1.2.0",
     "state": {
      "_model_module": "@jupyter-widgets/base",
      "_model_module_version": "1.2.0",
      "_model_name": "LayoutModel",
      "_view_count": null,
      "_view_module": "@jupyter-widgets/base",
      "_view_module_version": "1.2.0",
      "_view_name": "LayoutView",
      "align_content": null,
      "align_items": null,
      "align_self": null,
      "border": null,
      "bottom": null,
      "display": null,
      "flex": null,
      "flex_flow": null,
      "grid_area": null,
      "grid_auto_columns": null,
      "grid_auto_flow": null,
      "grid_auto_rows": null,
      "grid_column": null,
      "grid_gap": null,
      "grid_row": null,
      "grid_template_areas": null,
      "grid_template_columns": null,
      "grid_template_rows": null,
      "height": null,
      "justify_content": null,
      "justify_items": null,
      "left": null,
      "margin": null,
      "max_height": null,
      "max_width": null,
      "min_height": null,
      "min_width": null,
      "object_fit": null,
      "object_position": null,
      "order": null,
      "overflow": null,
      "overflow_x": null,
      "overflow_y": null,
      "padding": null,
      "right": null,
      "top": null,
      "visibility": null,
      "width": null
     }
    },
    "cf415f87d22e4d80a3cb2fe54115c85c": {
     "model_module": "@jupyter-widgets/controls",
     "model_name": "SliderStyleModel",
     "model_module_version": "1.5.0",
     "state": {
      "_model_module": "@jupyter-widgets/controls",
      "_model_module_version": "1.5.0",
      "_model_name": "SliderStyleModel",
      "_view_count": null,
      "_view_module": "@jupyter-widgets/base",
      "_view_module_version": "1.2.0",
      "_view_name": "StyleView",
      "description_width": "",
      "handle_color": null
     }
    },
    "229c343f11894a8eace05ff7452a762f": {
     "model_module": "@jupyter-widgets/base",
     "model_name": "LayoutModel",
     "model_module_version": "1.2.0",
     "state": {
      "_model_module": "@jupyter-widgets/base",
      "_model_module_version": "1.2.0",
      "_model_name": "LayoutModel",
      "_view_count": null,
      "_view_module": "@jupyter-widgets/base",
      "_view_module_version": "1.2.0",
      "_view_name": "LayoutView",
      "align_content": null,
      "align_items": null,
      "align_self": null,
      "border": null,
      "bottom": null,
      "display": null,
      "flex": null,
      "flex_flow": null,
      "grid_area": null,
      "grid_auto_columns": null,
      "grid_auto_flow": null,
      "grid_auto_rows": null,
      "grid_column": null,
      "grid_gap": null,
      "grid_row": null,
      "grid_template_areas": null,
      "grid_template_columns": null,
      "grid_template_rows": null,
      "height": null,
      "justify_content": null,
      "justify_items": null,
      "left": null,
      "margin": null,
      "max_height": null,
      "max_width": null,
      "min_height": null,
      "min_width": null,
      "object_fit": null,
      "object_position": null,
      "order": null,
      "overflow": null,
      "overflow_x": null,
      "overflow_y": null,
      "padding": null,
      "right": null,
      "top": null,
      "visibility": null,
      "width": null
     }
    },
    "33ba571895c34a869f1d3958eb8a5183": {
     "model_module": "@jupyter-widgets/controls",
     "model_name": "SliderStyleModel",
     "model_module_version": "1.5.0",
     "state": {
      "_model_module": "@jupyter-widgets/controls",
      "_model_module_version": "1.5.0",
      "_model_name": "SliderStyleModel",
      "_view_count": null,
      "_view_module": "@jupyter-widgets/base",
      "_view_module_version": "1.2.0",
      "_view_name": "StyleView",
      "description_width": "",
      "handle_color": null
     }
    },
    "56528962296b47fa8fc79680b244c937": {
     "model_module": "@jupyter-widgets/base",
     "model_name": "LayoutModel",
     "model_module_version": "1.2.0",
     "state": {
      "_model_module": "@jupyter-widgets/base",
      "_model_module_version": "1.2.0",
      "_model_name": "LayoutModel",
      "_view_count": null,
      "_view_module": "@jupyter-widgets/base",
      "_view_module_version": "1.2.0",
      "_view_name": "LayoutView",
      "align_content": null,
      "align_items": null,
      "align_self": null,
      "border": null,
      "bottom": null,
      "display": null,
      "flex": null,
      "flex_flow": null,
      "grid_area": null,
      "grid_auto_columns": null,
      "grid_auto_flow": null,
      "grid_auto_rows": null,
      "grid_column": null,
      "grid_gap": null,
      "grid_row": null,
      "grid_template_areas": null,
      "grid_template_columns": null,
      "grid_template_rows": null,
      "height": null,
      "justify_content": null,
      "justify_items": null,
      "left": null,
      "margin": null,
      "max_height": null,
      "max_width": null,
      "min_height": null,
      "min_width": null,
      "object_fit": null,
      "object_position": null,
      "order": null,
      "overflow": null,
      "overflow_x": null,
      "overflow_y": null,
      "padding": null,
      "right": null,
      "top": null,
      "visibility": null,
      "width": null
     }
    },
    "4be54616d9bc4e22a3449751f1dab3c4": {
     "model_module": "@jupyter-widgets/controls",
     "model_name": "DescriptionStyleModel",
     "model_module_version": "1.5.0",
     "state": {
      "_model_module": "@jupyter-widgets/controls",
      "_model_module_version": "1.5.0",
      "_model_name": "DescriptionStyleModel",
      "_view_count": null,
      "_view_module": "@jupyter-widgets/base",
      "_view_module_version": "1.2.0",
      "_view_name": "StyleView",
      "description_width": ""
     }
    }
   }
  }
 },
 "cells": [
  {
   "metadata": {},
   "cell_type": "markdown",
   "source": [
    "# 4DOF Cart-Pole System Model - Position\n",
    "\n",
    "Theoretical mathematical model of the 4DOF cart-pole system in the coordinate system $ (x, y, \\theta, \\varphi) $ with external normal velocity as free variable.\n",
    "\n",
    "Dynamic model uses Euler-Lagrange equations."
   ]
  },
  {
   "cell_type": "code",
   "metadata": {
    "id": "YbIjnNRBpt-u",
    "executionInfo": {
     "status": "ok",
     "timestamp": 1750814199696,
     "user_tz": 180,
     "elapsed": 6,
     "user": {
      "displayName": "Marcos Belizario",
      "userId": "10631893326976706194"
     }
    },
    "ExecuteTime": {
     "end_time": "2025-07-11T23:01:40.046467Z",
     "start_time": "2025-07-11T23:01:38.947419Z"
    }
   },
   "source": [
    "import matplotlib.pyplot as plt\n",
    "import numpy as np\n",
    "import sympy as sp\n",
    "\n",
    "from IPython.display import display, Math, Latex\n",
    "from scipy.integrate import solve_ivp\n",
    "from sksundae.ida import IDA"
   ],
   "outputs": [],
   "execution_count": 1
  },
  {
   "metadata": {},
   "cell_type": "markdown",
   "source": " ## Model"
  },
  {
   "metadata": {
    "ExecuteTime": {
     "end_time": "2025-07-11T23:01:40.144138Z",
     "start_time": "2025-07-11T23:01:40.129749Z"
    }
   },
   "cell_type": "code",
   "source": [
    "t = sp.symbols(r't')\n",
    "\n",
    "v = sp.Function(r'v')(t)\n",
    "\n",
    "x = sp.Function(r'x')(t)\n",
    "y = sp.Function(r'y')(t)\n",
    "theta = sp.Function(r'\\theta')(t)\n",
    "phi = sp.Function(r'\\varphi')(t)\n",
    "\n",
    "x_dot = x.diff(t)\n",
    "y_dot = y.diff(t)\n",
    "theta_dot = theta.diff(t)\n",
    "phi_dot = phi.diff(t)\n",
    "\n",
    "x_ddot = x_dot.diff(t)\n",
    "y_ddot = y_dot.diff(t)\n",
    "theta_ddot = theta_dot.diff(t)\n",
    "phi_ddot = phi_dot.diff(t)\n",
    "\n",
    "plane_dir = sp.Matrix([sp.cos(phi), sp.sin(phi), 0])\n",
    "\n",
    "dof = 4\n",
    "q = sp.Matrix([x, y, theta, phi])\n",
    "qd = sp.Matrix([x_dot, y_dot, theta_dot, phi_dot])\n",
    "qdd = sp.Matrix([x_ddot, y_ddot, theta_ddot, phi_ddot])\n",
    "\n",
    "args = [t, x, x_dot, y, y_dot, theta, theta_dot, phi, phi_dot]"
   ],
   "outputs": [],
   "execution_count": 2
  },
  {
   "metadata": {
    "ExecuteTime": {
     "end_time": "2025-07-11T23:01:40.182454Z",
     "start_time": "2025-07-11T23:01:40.179976Z"
    }
   },
   "cell_type": "code",
   "source": [
    "# Constants\n",
    "sp_half = sp.Rational(1, 2)\n",
    "\n",
    "# Define symbols\n",
    "hb, hr, hbc, eb, ew, dw = sp.symbols(r'h_b, h_r, h_bc, e_b, e_w, d_w', constant=True)\n",
    "m, Ir, Iz, Iw, ba, bd, ct, rho, g = sp.symbols(r'm, I_r, I_z, I_w, b_a, b_d, c_{\\theta}, \\rho, g', constant=True)\n",
    "\n",
    "params = [\n",
    "    hbc,  # height of body center\n",
    "    hb,  # height of body\n",
    "    eb,  # body width\n",
    "    dw,  # wheel diameter\n",
    "    m,  # mass in kg\n",
    "    Ir,  # moment of inertia\n",
    "    Iz,  # moment of inertia\n",
    "    Iw,  # moment of inertia\n",
    "    ba,  # damping coefficient\n",
    "    bd,  # drag coefficient\n",
    "    ct,  # theta_dot correction factor, ideally sp.tanh(theta_dot - (omega_l + omega_r))\n",
    "    rho,  # air density\n",
    "    g,  # gravity in m/s^2\n",
    "    v,  # normal velocity of the cart's origin, free variable\n",
    "]"
   ],
   "outputs": [],
   "execution_count": 3
  },
  {
   "metadata": {
    "id": "Z70PgnAzp3iF"
   },
   "cell_type": "markdown",
   "source": "### Kinematic model"
  },
  {
   "metadata": {},
   "cell_type": "markdown",
   "source": "#### Kinematics of the body's origin"
  },
  {
   "metadata": {
    "ExecuteTime": {
     "end_time": "2025-07-11T23:01:40.229529Z",
     "start_time": "2025-07-11T23:01:40.226968Z"
    }
   },
   "cell_type": "code",
   "source": "Xo = sp.Function('X_o')(t)",
   "outputs": [],
   "execution_count": 4
  },
  {
   "metadata": {
    "ExecuteTime": {
     "end_time": "2025-07-11T23:01:40.285906Z",
     "start_time": "2025-07-11T23:01:40.274322Z"
    }
   },
   "cell_type": "code",
   "source": [
    "Xo = sp.Matrix([\n",
    "    x,  # + sp.integrate(v * sp.cos(phi), (t, 0, t)),\n",
    "    y,  # + sp.integrate(v * sp.sin(phi), (t, 0, t)),\n",
    "    0,\n",
    "])\n",
    "\n",
    "# Lambdify\n",
    "Xo_fn = sp.lambdify(args + params, Xo)\n",
    "\n",
    "# Output\n",
    "Xo = sp.simplify(Xo)\n",
    "display(Xo)"
   ],
   "outputs": [
    {
     "data": {
      "text/plain": [
       "Matrix([\n",
       "[x(t)],\n",
       "[y(t)],\n",
       "[   0]])"
      ],
      "text/latex": "$\\displaystyle \\left[\\begin{matrix}x{\\left(t \\right)}\\\\y{\\left(t \\right)}\\\\0\\end{matrix}\\right]$"
     },
     "metadata": {},
     "output_type": "display_data"
    }
   ],
   "execution_count": 5
  },
  {
   "metadata": {
    "ExecuteTime": {
     "end_time": "2025-07-11T23:01:40.477221Z",
     "start_time": "2025-07-11T23:01:40.329129Z"
    }
   },
   "cell_type": "code",
   "source": [
    "Xo_dot = Xo.diff(t) + v * plane_dir\n",
    "\n",
    "# Lambdify\n",
    "Xo_dot_fn = sp.lambdify(args + params, Xo_dot)\n",
    "\n",
    "# Output\n",
    "Xo_dot = sp.simplify(Xo_dot)\n",
    "display(Xo_dot)"
   ],
   "outputs": [
    {
     "data": {
      "text/plain": [
       "Matrix([\n",
       "[v(t)*cos(\\varphi(t)) + Derivative(x(t), t)],\n",
       "[v(t)*sin(\\varphi(t)) + Derivative(y(t), t)],\n",
       "[                                         0]])"
      ],
      "text/latex": "$\\displaystyle \\left[\\begin{matrix}v{\\left(t \\right)} \\cos{\\left(\\varphi{\\left(t \\right)} \\right)} + \\frac{d}{d t} x{\\left(t \\right)}\\\\v{\\left(t \\right)} \\sin{\\left(\\varphi{\\left(t \\right)} \\right)} + \\frac{d}{d t} y{\\left(t \\right)}\\\\0\\end{matrix}\\right]$"
     },
     "metadata": {},
     "output_type": "display_data"
    }
   ],
   "execution_count": 6
  },
  {
   "metadata": {},
   "cell_type": "markdown",
   "source": "#### Kinematics of the body's left wheel"
  },
  {
   "metadata": {
    "ExecuteTime": {
     "end_time": "2025-07-11T23:01:40.490260Z",
     "start_time": "2025-07-11T23:01:40.488095Z"
    }
   },
   "cell_type": "code",
   "source": [
    "Xlo = sp.Function('X_{l,o}')(t)\n",
    "Xl = sp.Function('X_l')(t)"
   ],
   "outputs": [],
   "execution_count": 7
  },
  {
   "metadata": {
    "ExecuteTime": {
     "end_time": "2025-07-11T23:01:40.576072Z",
     "start_time": "2025-07-11T23:01:40.537977Z"
    }
   },
   "cell_type": "code",
   "source": [
    "Xlo = sp.rot_givens(1, 0, phi) * sp.Matrix([0, eb, 0])\n",
    "Xl = Xo + Xlo\n",
    "\n",
    "# Output\n",
    "Xl = sp.simplify(Xl)\n",
    "display(Xl)"
   ],
   "outputs": [
    {
     "data": {
      "text/plain": [
       "Matrix([\n",
       "[-e_b*sin(\\varphi(t)) + x(t)],\n",
       "[ e_b*cos(\\varphi(t)) + y(t)],\n",
       "[                          0]])"
      ],
      "text/latex": "$\\displaystyle \\left[\\begin{matrix}- e_{b} \\sin{\\left(\\varphi{\\left(t \\right)} \\right)} + x{\\left(t \\right)}\\\\e_{b} \\cos{\\left(\\varphi{\\left(t \\right)} \\right)} + y{\\left(t \\right)}\\\\0\\end{matrix}\\right]$"
     },
     "metadata": {},
     "output_type": "display_data"
    }
   ],
   "execution_count": 8
  },
  {
   "metadata": {
    "ExecuteTime": {
     "end_time": "2025-07-11T23:01:40.666751Z",
     "start_time": "2025-07-11T23:01:40.589625Z"
    }
   },
   "cell_type": "code",
   "source": [
    "Xl_dot = Xo_dot + Xlo.diff(t)\n",
    "\n",
    "# Output\n",
    "Xl_dot = sp.simplify(Xl_dot)\n",
    "display(Xl_dot)"
   ],
   "outputs": [
    {
     "data": {
      "text/plain": [
       "Matrix([\n",
       "[-e_b*cos(\\varphi(t))*Derivative(\\varphi(t), t) + v(t)*cos(\\varphi(t)) + Derivative(x(t), t)],\n",
       "[-e_b*sin(\\varphi(t))*Derivative(\\varphi(t), t) + v(t)*sin(\\varphi(t)) + Derivative(y(t), t)],\n",
       "[                                                                                          0]])"
      ],
      "text/latex": "$\\displaystyle \\left[\\begin{matrix}- e_{b} \\cos{\\left(\\varphi{\\left(t \\right)} \\right)} \\frac{d}{d t} \\varphi{\\left(t \\right)} + v{\\left(t \\right)} \\cos{\\left(\\varphi{\\left(t \\right)} \\right)} + \\frac{d}{d t} x{\\left(t \\right)}\\\\- e_{b} \\sin{\\left(\\varphi{\\left(t \\right)} \\right)} \\frac{d}{d t} \\varphi{\\left(t \\right)} + v{\\left(t \\right)} \\sin{\\left(\\varphi{\\left(t \\right)} \\right)} + \\frac{d}{d t} y{\\left(t \\right)}\\\\0\\end{matrix}\\right]$"
     },
     "metadata": {},
     "output_type": "display_data"
    }
   ],
   "execution_count": 9
  },
  {
   "metadata": {
    "ExecuteTime": {
     "end_time": "2025-07-11T23:01:40.933324Z",
     "start_time": "2025-07-11T23:01:40.677217Z"
    }
   },
   "cell_type": "code",
   "source": [
    "Xl_dot_norm = sp.sqrt(Xl_dot.dot(Xl_dot))\n",
    "\n",
    "# Output\n",
    "Xl_dot_norm = sp.simplify(Xl_dot_norm)\n",
    "display(Xl_dot_norm)"
   ],
   "outputs": [
    {
     "data": {
      "text/plain": [
       "sqrt((-e_b*sin(\\varphi(t))*Derivative(\\varphi(t), t) + v(t)*sin(\\varphi(t)) + Derivative(y(t), t))**2 + (-e_b*cos(\\varphi(t))*Derivative(\\varphi(t), t) + v(t)*cos(\\varphi(t)) + Derivative(x(t), t))**2)"
      ],
      "text/latex": "$\\displaystyle \\sqrt{\\left(- e_{b} \\sin{\\left(\\varphi{\\left(t \\right)} \\right)} \\frac{d}{d t} \\varphi{\\left(t \\right)} + v{\\left(t \\right)} \\sin{\\left(\\varphi{\\left(t \\right)} \\right)} + \\frac{d}{d t} y{\\left(t \\right)}\\right)^{2} + \\left(- e_{b} \\cos{\\left(\\varphi{\\left(t \\right)} \\right)} \\frac{d}{d t} \\varphi{\\left(t \\right)} + v{\\left(t \\right)} \\cos{\\left(\\varphi{\\left(t \\right)} \\right)} + \\frac{d}{d t} x{\\left(t \\right)}\\right)^{2}}$"
     },
     "metadata": {},
     "output_type": "display_data"
    }
   ],
   "execution_count": 10
  },
  {
   "metadata": {
    "ExecuteTime": {
     "end_time": "2025-07-11T23:01:41.355729Z",
     "start_time": "2025-07-11T23:01:40.946161Z"
    }
   },
   "cell_type": "code",
   "source": [
    "omega_l = 2 * Xl_dot_norm / dw - theta_dot\n",
    "\n",
    "# Output\n",
    "omega_l = sp.simplify(omega_l)\n",
    "display(omega_l)"
   ],
   "outputs": [
    {
     "data": {
      "text/plain": [
       "-Derivative(\\theta(t), t) + 2*sqrt((-e_b*sin(\\varphi(t))*Derivative(\\varphi(t), t) + v(t)*sin(\\varphi(t)) + Derivative(y(t), t))**2 + (-e_b*cos(\\varphi(t))*Derivative(\\varphi(t), t) + v(t)*cos(\\varphi(t)) + Derivative(x(t), t))**2)/d_w"
      ],
      "text/latex": "$\\displaystyle - \\frac{d}{d t} \\theta{\\left(t \\right)} + \\frac{2 \\sqrt{\\left(- e_{b} \\sin{\\left(\\varphi{\\left(t \\right)} \\right)} \\frac{d}{d t} \\varphi{\\left(t \\right)} + v{\\left(t \\right)} \\sin{\\left(\\varphi{\\left(t \\right)} \\right)} + \\frac{d}{d t} y{\\left(t \\right)}\\right)^{2} + \\left(- e_{b} \\cos{\\left(\\varphi{\\left(t \\right)} \\right)} \\frac{d}{d t} \\varphi{\\left(t \\right)} + v{\\left(t \\right)} \\cos{\\left(\\varphi{\\left(t \\right)} \\right)} + \\frac{d}{d t} x{\\left(t \\right)}\\right)^{2}}}{d_{w}}$"
     },
     "metadata": {},
     "output_type": "display_data"
    }
   ],
   "execution_count": 11
  },
  {
   "metadata": {},
   "cell_type": "markdown",
   "source": "#### Kinematics of the body's right wheel"
  },
  {
   "metadata": {
    "ExecuteTime": {
     "end_time": "2025-07-11T23:01:41.385521Z",
     "start_time": "2025-07-11T23:01:41.381998Z"
    }
   },
   "cell_type": "code",
   "source": [
    "Xro = sp.Function('X_{r,o}')(t)\n",
    "Xr = sp.Function('X_r')(t)"
   ],
   "outputs": [],
   "execution_count": 12
  },
  {
   "metadata": {
    "ExecuteTime": {
     "end_time": "2025-07-11T23:01:41.481611Z",
     "start_time": "2025-07-11T23:01:41.434770Z"
    }
   },
   "cell_type": "code",
   "source": [
    "Xro = sp.rot_givens(1, 0, phi) * sp.Matrix([0, -eb, 0])\n",
    "Xr = Xo + Xro\n",
    "\n",
    "# Output\n",
    "Xr = sp.simplify(Xr)\n",
    "display(Xr)"
   ],
   "outputs": [
    {
     "data": {
      "text/plain": [
       "Matrix([\n",
       "[ e_b*sin(\\varphi(t)) + x(t)],\n",
       "[-e_b*cos(\\varphi(t)) + y(t)],\n",
       "[                          0]])"
      ],
      "text/latex": "$\\displaystyle \\left[\\begin{matrix}e_{b} \\sin{\\left(\\varphi{\\left(t \\right)} \\right)} + x{\\left(t \\right)}\\\\- e_{b} \\cos{\\left(\\varphi{\\left(t \\right)} \\right)} + y{\\left(t \\right)}\\\\0\\end{matrix}\\right]$"
     },
     "metadata": {},
     "output_type": "display_data"
    }
   ],
   "execution_count": 13
  },
  {
   "metadata": {
    "ExecuteTime": {
     "end_time": "2025-07-11T23:01:41.564674Z",
     "start_time": "2025-07-11T23:01:41.506272Z"
    }
   },
   "cell_type": "code",
   "source": [
    "Xr_dot = Xo_dot + Xro.diff(t)\n",
    "\n",
    "# Output\n",
    "Xr_dot = sp.simplify(Xr_dot)\n",
    "display(Xr_dot)"
   ],
   "outputs": [
    {
     "data": {
      "text/plain": [
       "Matrix([\n",
       "[e_b*cos(\\varphi(t))*Derivative(\\varphi(t), t) + v(t)*cos(\\varphi(t)) + Derivative(x(t), t)],\n",
       "[e_b*sin(\\varphi(t))*Derivative(\\varphi(t), t) + v(t)*sin(\\varphi(t)) + Derivative(y(t), t)],\n",
       "[                                                                                         0]])"
      ],
      "text/latex": "$\\displaystyle \\left[\\begin{matrix}e_{b} \\cos{\\left(\\varphi{\\left(t \\right)} \\right)} \\frac{d}{d t} \\varphi{\\left(t \\right)} + v{\\left(t \\right)} \\cos{\\left(\\varphi{\\left(t \\right)} \\right)} + \\frac{d}{d t} x{\\left(t \\right)}\\\\e_{b} \\sin{\\left(\\varphi{\\left(t \\right)} \\right)} \\frac{d}{d t} \\varphi{\\left(t \\right)} + v{\\left(t \\right)} \\sin{\\left(\\varphi{\\left(t \\right)} \\right)} + \\frac{d}{d t} y{\\left(t \\right)}\\\\0\\end{matrix}\\right]$"
     },
     "metadata": {},
     "output_type": "display_data"
    }
   ],
   "execution_count": 14
  },
  {
   "metadata": {
    "ExecuteTime": {
     "end_time": "2025-07-11T23:01:41.815307Z",
     "start_time": "2025-07-11T23:01:41.580768Z"
    }
   },
   "cell_type": "code",
   "source": [
    "Xr_dot_norm = sp.sqrt(Xr_dot.dot(Xr_dot))\n",
    "\n",
    "# Output\n",
    "Xr_dot_norm = sp.simplify(Xr_dot_norm)\n",
    "display(Xr_dot_norm)"
   ],
   "outputs": [
    {
     "data": {
      "text/plain": [
       "sqrt((e_b*sin(\\varphi(t))*Derivative(\\varphi(t), t) + v(t)*sin(\\varphi(t)) + Derivative(y(t), t))**2 + (e_b*cos(\\varphi(t))*Derivative(\\varphi(t), t) + v(t)*cos(\\varphi(t)) + Derivative(x(t), t))**2)"
      ],
      "text/latex": "$\\displaystyle \\sqrt{\\left(e_{b} \\sin{\\left(\\varphi{\\left(t \\right)} \\right)} \\frac{d}{d t} \\varphi{\\left(t \\right)} + v{\\left(t \\right)} \\sin{\\left(\\varphi{\\left(t \\right)} \\right)} + \\frac{d}{d t} y{\\left(t \\right)}\\right)^{2} + \\left(e_{b} \\cos{\\left(\\varphi{\\left(t \\right)} \\right)} \\frac{d}{d t} \\varphi{\\left(t \\right)} + v{\\left(t \\right)} \\cos{\\left(\\varphi{\\left(t \\right)} \\right)} + \\frac{d}{d t} x{\\left(t \\right)}\\right)^{2}}$"
     },
     "metadata": {},
     "output_type": "display_data"
    }
   ],
   "execution_count": 15
  },
  {
   "metadata": {
    "ExecuteTime": {
     "end_time": "2025-07-11T23:01:42.194360Z",
     "start_time": "2025-07-11T23:01:41.829354Z"
    }
   },
   "cell_type": "code",
   "source": [
    "omega_r = 2 * Xr_dot_norm / dw - theta_dot\n",
    "\n",
    "# Output\n",
    "omega_r = sp.simplify(omega_r)\n",
    "display(omega_r)"
   ],
   "outputs": [
    {
     "data": {
      "text/plain": [
       "-Derivative(\\theta(t), t) + 2*sqrt((e_b*sin(\\varphi(t))*Derivative(\\varphi(t), t) + v(t)*sin(\\varphi(t)) + Derivative(y(t), t))**2 + (e_b*cos(\\varphi(t))*Derivative(\\varphi(t), t) + v(t)*cos(\\varphi(t)) + Derivative(x(t), t))**2)/d_w"
      ],
      "text/latex": "$\\displaystyle - \\frac{d}{d t} \\theta{\\left(t \\right)} + \\frac{2 \\sqrt{\\left(e_{b} \\sin{\\left(\\varphi{\\left(t \\right)} \\right)} \\frac{d}{d t} \\varphi{\\left(t \\right)} + v{\\left(t \\right)} \\sin{\\left(\\varphi{\\left(t \\right)} \\right)} + \\frac{d}{d t} y{\\left(t \\right)}\\right)^{2} + \\left(e_{b} \\cos{\\left(\\varphi{\\left(t \\right)} \\right)} \\frac{d}{d t} \\varphi{\\left(t \\right)} + v{\\left(t \\right)} \\cos{\\left(\\varphi{\\left(t \\right)} \\right)} + \\frac{d}{d t} x{\\left(t \\right)}\\right)^{2}}}{d_{w}}$"
     },
     "metadata": {},
     "output_type": "display_data"
    }
   ],
   "execution_count": 16
  },
  {
   "metadata": {},
   "cell_type": "markdown",
   "source": "#### Kinematics of the body's center of mass"
  },
  {
   "metadata": {
    "ExecuteTime": {
     "end_time": "2025-07-11T23:01:42.219363Z",
     "start_time": "2025-07-11T23:01:42.217128Z"
    }
   },
   "cell_type": "code",
   "source": [
    "Xco = sp.Function('X_c')(t)\n",
    "Xc = sp.Function('X_c')(t)"
   ],
   "outputs": [],
   "execution_count": 17
  },
  {
   "metadata": {
    "ExecuteTime": {
     "end_time": "2025-07-11T23:01:42.410237Z",
     "start_time": "2025-07-11T23:01:42.273222Z"
    }
   },
   "cell_type": "code",
   "source": [
    "Xco = sp.rot_givens(1, 0, phi) * (sp.rot_givens(0, 2, theta) * sp.Matrix([0, 0, hbc]))\n",
    "Xc = Xo + Xco\n",
    "\n",
    "# Lambdify\n",
    "Xc_fn = sp.lambdify(args + params, Xc)\n",
    "\n",
    "# Output\n",
    "Xc = sp.simplify(Xc)\n",
    "display(Xc)"
   ],
   "outputs": [
    {
     "data": {
      "text/plain": [
       "Matrix([\n",
       "[h_bc*sin(\\theta(t))*cos(\\varphi(t)) + x(t)],\n",
       "[h_bc*sin(\\theta(t))*sin(\\varphi(t)) + y(t)],\n",
       "[                       h_bc*cos(\\theta(t))]])"
      ],
      "text/latex": "$\\displaystyle \\left[\\begin{matrix}h_{bc} \\sin{\\left(\\theta{\\left(t \\right)} \\right)} \\cos{\\left(\\varphi{\\left(t \\right)} \\right)} + x{\\left(t \\right)}\\\\h_{bc} \\sin{\\left(\\theta{\\left(t \\right)} \\right)} \\sin{\\left(\\varphi{\\left(t \\right)} \\right)} + y{\\left(t \\right)}\\\\h_{bc} \\cos{\\left(\\theta{\\left(t \\right)} \\right)}\\end{matrix}\\right]$"
     },
     "metadata": {},
     "output_type": "display_data"
    }
   ],
   "execution_count": 18
  },
  {
   "metadata": {
    "ExecuteTime": {
     "end_time": "2025-07-11T23:01:42.566574Z",
     "start_time": "2025-07-11T23:01:42.426044Z"
    }
   },
   "cell_type": "code",
   "source": [
    "# TODO: Analyze the correct approach to Xc_dot\n",
    "\n",
    "# Xc_dot = Xo_dot + Xco.diff(t)\n",
    "\n",
    "omegao = sp.Matrix([\n",
    "    0,\n",
    "    theta_dot,\n",
    "    phi_dot,\n",
    "])\n",
    "\n",
    "omegac = sp.rot_givens(1, 0, phi) * (sp.rot_givens(0, 2, theta) * omegao)\n",
    "Xc_dot = Xo_dot + omegac.cross(Xco)\n",
    "\n",
    "# Lambdify\n",
    "Xc_dot_fn = sp.lambdify(args + params, Xc_dot)\n",
    "\n",
    "# Output\n",
    "Xc_dot = sp.simplify(Xc_dot)\n",
    "display(Xc_dot)"
   ],
   "outputs": [
    {
     "data": {
      "text/plain": [
       "Matrix([\n",
       "[h_bc*cos(\\theta(t))*cos(\\varphi(t))*Derivative(\\theta(t), t) + v(t)*cos(\\varphi(t)) + Derivative(x(t), t)],\n",
       "[h_bc*sin(\\varphi(t))*cos(\\theta(t))*Derivative(\\theta(t), t) + v(t)*sin(\\varphi(t)) + Derivative(y(t), t)],\n",
       "[                                                            -h_bc*sin(\\theta(t))*Derivative(\\theta(t), t)]])"
      ],
      "text/latex": "$\\displaystyle \\left[\\begin{matrix}h_{bc} \\cos{\\left(\\theta{\\left(t \\right)} \\right)} \\cos{\\left(\\varphi{\\left(t \\right)} \\right)} \\frac{d}{d t} \\theta{\\left(t \\right)} + v{\\left(t \\right)} \\cos{\\left(\\varphi{\\left(t \\right)} \\right)} + \\frac{d}{d t} x{\\left(t \\right)}\\\\h_{bc} \\sin{\\left(\\varphi{\\left(t \\right)} \\right)} \\cos{\\left(\\theta{\\left(t \\right)} \\right)} \\frac{d}{d t} \\theta{\\left(t \\right)} + v{\\left(t \\right)} \\sin{\\left(\\varphi{\\left(t \\right)} \\right)} + \\frac{d}{d t} y{\\left(t \\right)}\\\\- h_{bc} \\sin{\\left(\\theta{\\left(t \\right)} \\right)} \\frac{d}{d t} \\theta{\\left(t \\right)}\\end{matrix}\\right]$"
     },
     "metadata": {},
     "output_type": "display_data"
    }
   ],
   "execution_count": 19
  },
  {
   "metadata": {
    "ExecuteTime": {
     "end_time": "2025-07-11T23:01:42.932637Z",
     "start_time": "2025-07-11T23:01:42.581516Z"
    }
   },
   "cell_type": "code",
   "source": [
    "Xc_dot_norm = sp.sqrt(Xc_dot.dot(Xc_dot))\n",
    "\n",
    "# Output\n",
    "Xc_dot_norm = sp.simplify(Xc_dot_norm)\n",
    "display(Xc_dot_norm)"
   ],
   "outputs": [
    {
     "data": {
      "text/plain": [
       "sqrt(h_bc**2*sin(\\theta(t))**2*Derivative(\\theta(t), t)**2 + (h_bc*sin(\\varphi(t))*cos(\\theta(t))*Derivative(\\theta(t), t) + v(t)*sin(\\varphi(t)) + Derivative(y(t), t))**2 + (h_bc*cos(\\theta(t))*cos(\\varphi(t))*Derivative(\\theta(t), t) + v(t)*cos(\\varphi(t)) + Derivative(x(t), t))**2)"
      ],
      "text/latex": "$\\displaystyle \\sqrt{h_{bc}^{2} \\sin^{2}{\\left(\\theta{\\left(t \\right)} \\right)} \\left(\\frac{d}{d t} \\theta{\\left(t \\right)}\\right)^{2} + \\left(h_{bc} \\sin{\\left(\\varphi{\\left(t \\right)} \\right)} \\cos{\\left(\\theta{\\left(t \\right)} \\right)} \\frac{d}{d t} \\theta{\\left(t \\right)} + v{\\left(t \\right)} \\sin{\\left(\\varphi{\\left(t \\right)} \\right)} + \\frac{d}{d t} y{\\left(t \\right)}\\right)^{2} + \\left(h_{bc} \\cos{\\left(\\theta{\\left(t \\right)} \\right)} \\cos{\\left(\\varphi{\\left(t \\right)} \\right)} \\frac{d}{d t} \\theta{\\left(t \\right)} + v{\\left(t \\right)} \\cos{\\left(\\varphi{\\left(t \\right)} \\right)} + \\frac{d}{d t} x{\\left(t \\right)}\\right)^{2}}$"
     },
     "metadata": {},
     "output_type": "display_data"
    }
   ],
   "execution_count": 20
  },
  {
   "metadata": {},
   "cell_type": "markdown",
   "source": "### Dynamic model"
  },
  {
   "metadata": {},
   "cell_type": "markdown",
   "source": [
    "#### Kinect energy of the body\n",
    "\n",
    "Assuming the hypothesis $ \\frac{ 2 ||\\dot{X_l}|| }{ dw } \\gg \\dot{\\theta} $, then the kinetic energy from $ \\omega_l $ and $ \\omega_r $ can be simplified by removing the effect of $ \\dot{\\theta} $.\n",
    "This hypothesis is valid when $ \\dot{\\theta} \\approx 0 $ or $ \\dot{\\theta} \\approx \\omega_l + \\omega_r $.\n",
    "\n",
    "We assume that $ \\dot{\\theta} \\ll \\omega_l + \\omega_r $ iff $ \\dot{\\theta} \\approx 0 $.\n",
    "Therefore, we can add a correction term only for the case $ \\dot{\\theta} \\gg \\omega_l + \\omega_r $ by adding $ c_{\\theta} \\cdot 2 \\dot{\\theta} ^2 $."
   ]
  },
  {
   "metadata": {
    "ExecuteTime": {
     "end_time": "2025-07-11T23:01:45.542274Z",
     "start_time": "2025-07-11T23:01:42.953886Z"
    }
   },
   "cell_type": "code",
   "source": [
    "T = (\n",
    "        sp_half * m * Xc_dot_norm ** 2\n",
    "        + sp_half * Ir * theta_dot ** 2\n",
    "        + sp_half * (Iz + m * (hbc * sp.sin(theta)) ** 2) * phi_dot ** 2\n",
    "        + sp_half * Iw * ((omega_l + theta_dot) ** 2 + (omega_r + theta_dot) ** 2 + ct * 2 * theta_dot ** 2)\n",
    ")\n",
    "\n",
    "# Output\n",
    "T_exp = sp.expand(T)\n",
    "T = sp.simplify(T_exp)\n",
    "display(T)"
   ],
   "outputs": [
    {
     "data": {
      "text/plain": [
       "I_r*Derivative(\\theta(t), t)**2/2 + I_w*c_{\\theta}*Derivative(\\theta(t), t)**2 + 4*I_w*e_b**2*Derivative(\\varphi(t), t)**2/d_w**2 + 4*I_w*v(t)**2/d_w**2 + 8*I_w*v(t)*sin(\\varphi(t))*Derivative(y(t), t)/d_w**2 + 8*I_w*v(t)*cos(\\varphi(t))*Derivative(x(t), t)/d_w**2 + 4*I_w*Derivative(x(t), t)**2/d_w**2 + 4*I_w*Derivative(y(t), t)**2/d_w**2 + I_z*Derivative(\\varphi(t), t)**2/2 + h_bc**2*m*sin(\\theta(t))**2*Derivative(\\varphi(t), t)**2/2 + h_bc**2*m*Derivative(\\theta(t), t)**2/2 + h_bc*m*v(t)*cos(\\theta(t))*Derivative(\\theta(t), t) + h_bc*m*sin(\\varphi(t))*cos(\\theta(t))*Derivative(\\theta(t), t)*Derivative(y(t), t) + h_bc*m*cos(\\theta(t))*cos(\\varphi(t))*Derivative(\\theta(t), t)*Derivative(x(t), t) + m*v(t)**2/2 + m*v(t)*sin(\\varphi(t))*Derivative(y(t), t) + m*v(t)*cos(\\varphi(t))*Derivative(x(t), t) + m*Derivative(x(t), t)**2/2 + m*Derivative(y(t), t)**2/2"
      ],
      "text/latex": "$\\displaystyle \\frac{I_{r} \\left(\\frac{d}{d t} \\theta{\\left(t \\right)}\\right)^{2}}{2} + I_{w} c_{\\theta} \\left(\\frac{d}{d t} \\theta{\\left(t \\right)}\\right)^{2} + \\frac{4 I_{w} e_{b}^{2} \\left(\\frac{d}{d t} \\varphi{\\left(t \\right)}\\right)^{2}}{d_{w}^{2}} + \\frac{4 I_{w} v^{2}{\\left(t \\right)}}{d_{w}^{2}} + \\frac{8 I_{w} v{\\left(t \\right)} \\sin{\\left(\\varphi{\\left(t \\right)} \\right)} \\frac{d}{d t} y{\\left(t \\right)}}{d_{w}^{2}} + \\frac{8 I_{w} v{\\left(t \\right)} \\cos{\\left(\\varphi{\\left(t \\right)} \\right)} \\frac{d}{d t} x{\\left(t \\right)}}{d_{w}^{2}} + \\frac{4 I_{w} \\left(\\frac{d}{d t} x{\\left(t \\right)}\\right)^{2}}{d_{w}^{2}} + \\frac{4 I_{w} \\left(\\frac{d}{d t} y{\\left(t \\right)}\\right)^{2}}{d_{w}^{2}} + \\frac{I_{z} \\left(\\frac{d}{d t} \\varphi{\\left(t \\right)}\\right)^{2}}{2} + \\frac{h_{bc}^{2} m \\sin^{2}{\\left(\\theta{\\left(t \\right)} \\right)} \\left(\\frac{d}{d t} \\varphi{\\left(t \\right)}\\right)^{2}}{2} + \\frac{h_{bc}^{2} m \\left(\\frac{d}{d t} \\theta{\\left(t \\right)}\\right)^{2}}{2} + h_{bc} m v{\\left(t \\right)} \\cos{\\left(\\theta{\\left(t \\right)} \\right)} \\frac{d}{d t} \\theta{\\left(t \\right)} + h_{bc} m \\sin{\\left(\\varphi{\\left(t \\right)} \\right)} \\cos{\\left(\\theta{\\left(t \\right)} \\right)} \\frac{d}{d t} \\theta{\\left(t \\right)} \\frac{d}{d t} y{\\left(t \\right)} + h_{bc} m \\cos{\\left(\\theta{\\left(t \\right)} \\right)} \\cos{\\left(\\varphi{\\left(t \\right)} \\right)} \\frac{d}{d t} \\theta{\\left(t \\right)} \\frac{d}{d t} x{\\left(t \\right)} + \\frac{m v^{2}{\\left(t \\right)}}{2} + m v{\\left(t \\right)} \\sin{\\left(\\varphi{\\left(t \\right)} \\right)} \\frac{d}{d t} y{\\left(t \\right)} + m v{\\left(t \\right)} \\cos{\\left(\\varphi{\\left(t \\right)} \\right)} \\frac{d}{d t} x{\\left(t \\right)} + \\frac{m \\left(\\frac{d}{d t} x{\\left(t \\right)}\\right)^{2}}{2} + \\frac{m \\left(\\frac{d}{d t} y{\\left(t \\right)}\\right)^{2}}{2}$"
     },
     "metadata": {},
     "output_type": "display_data"
    }
   ],
   "execution_count": 21
  },
  {
   "metadata": {
    "ExecuteTime": {
     "end_time": "2025-07-11T23:01:46.182019Z",
     "start_time": "2025-07-11T23:01:45.588957Z"
    }
   },
   "cell_type": "code",
   "source": [
    "T_gradq = sp.Matrix([\n",
    "    T_exp.diff(x),\n",
    "    T_exp.diff(y),\n",
    "    T_exp.diff(theta),\n",
    "    T_exp.diff(phi),\n",
    "])\n",
    "\n",
    "# Output\n",
    "T_gradq_exp = sp.expand(T_gradq)\n",
    "T_gradq = sp.simplify(T_gradq_exp)\n",
    "display(T_gradq)"
   ],
   "outputs": [
    {
     "data": {
      "text/plain": [
       "Matrix([\n",
       "[                                                                                                                                                                                                                                                                                                                                                                                0],\n",
       "[                                                                                                                                                                                                                                                                                                                                                                                0],\n",
       "[                                                                                                                                           h_bc*m*(h_bc*cos(\\theta(t))*Derivative(\\varphi(t), t)**2 - v(t)*Derivative(\\theta(t), t) - sin(\\varphi(t))*Derivative(\\theta(t), t)*Derivative(y(t), t) - cos(\\varphi(t))*Derivative(\\theta(t), t)*Derivative(x(t), t))*sin(\\theta(t))],\n",
       "[(-8*I_w*v(t)*sin(\\varphi(t))*Derivative(x(t), t) + 8*I_w*v(t)*cos(\\varphi(t))*Derivative(y(t), t) + d_w**2*m*(-h_bc*sin(\\varphi(t))*cos(\\theta(t))*Derivative(\\theta(t), t)*Derivative(x(t), t) + h_bc*cos(\\theta(t))*cos(\\varphi(t))*Derivative(\\theta(t), t)*Derivative(y(t), t) - v(t)*sin(\\varphi(t))*Derivative(x(t), t) + v(t)*cos(\\varphi(t))*Derivative(y(t), t)))/d_w**2]])"
      ],
      "text/latex": "$\\displaystyle \\left[\\begin{matrix}0\\\\0\\\\h_{bc} m \\left(h_{bc} \\cos{\\left(\\theta{\\left(t \\right)} \\right)} \\left(\\frac{d}{d t} \\varphi{\\left(t \\right)}\\right)^{2} - v{\\left(t \\right)} \\frac{d}{d t} \\theta{\\left(t \\right)} - \\sin{\\left(\\varphi{\\left(t \\right)} \\right)} \\frac{d}{d t} \\theta{\\left(t \\right)} \\frac{d}{d t} y{\\left(t \\right)} - \\cos{\\left(\\varphi{\\left(t \\right)} \\right)} \\frac{d}{d t} \\theta{\\left(t \\right)} \\frac{d}{d t} x{\\left(t \\right)}\\right) \\sin{\\left(\\theta{\\left(t \\right)} \\right)}\\\\\\frac{- 8 I_{w} v{\\left(t \\right)} \\sin{\\left(\\varphi{\\left(t \\right)} \\right)} \\frac{d}{d t} x{\\left(t \\right)} + 8 I_{w} v{\\left(t \\right)} \\cos{\\left(\\varphi{\\left(t \\right)} \\right)} \\frac{d}{d t} y{\\left(t \\right)} + d_{w}^{2} m \\left(- h_{bc} \\sin{\\left(\\varphi{\\left(t \\right)} \\right)} \\cos{\\left(\\theta{\\left(t \\right)} \\right)} \\frac{d}{d t} \\theta{\\left(t \\right)} \\frac{d}{d t} x{\\left(t \\right)} + h_{bc} \\cos{\\left(\\theta{\\left(t \\right)} \\right)} \\cos{\\left(\\varphi{\\left(t \\right)} \\right)} \\frac{d}{d t} \\theta{\\left(t \\right)} \\frac{d}{d t} y{\\left(t \\right)} - v{\\left(t \\right)} \\sin{\\left(\\varphi{\\left(t \\right)} \\right)} \\frac{d}{d t} x{\\left(t \\right)} + v{\\left(t \\right)} \\cos{\\left(\\varphi{\\left(t \\right)} \\right)} \\frac{d}{d t} y{\\left(t \\right)}\\right)}{d_{w}^{2}}\\end{matrix}\\right]$"
     },
     "metadata": {},
     "output_type": "display_data"
    }
   ],
   "execution_count": 22
  },
  {
   "metadata": {
    "ExecuteTime": {
     "end_time": "2025-07-11T23:01:47.097039Z",
     "start_time": "2025-07-11T23:01:46.206731Z"
    }
   },
   "cell_type": "code",
   "source": [
    "T_gradqd = sp.Matrix([\n",
    "    T_exp.diff(x_dot),\n",
    "    T_exp.diff(y_dot),\n",
    "    T_exp.diff(theta_dot),\n",
    "    T_exp.diff(phi_dot),\n",
    "])\n",
    "\n",
    "# Output\n",
    "T_gradqd_exp = sp.expand(T_gradqd)\n",
    "T_gradqd = sp.simplify(T_gradqd_exp)\n",
    "display(T_gradqd)"
   ],
   "outputs": [
    {
     "data": {
      "text/plain": [
       "Matrix([\n",
       "[                                                                            (8*I_w*v(t)*cos(\\varphi(t)) + 8*I_w*Derivative(x(t), t) + d_w**2*m*(h_bc*cos(\\theta(t))*cos(\\varphi(t))*Derivative(\\theta(t), t) + v(t)*cos(\\varphi(t)) + Derivative(x(t), t)))/d_w**2],\n",
       "[                                                                            (8*I_w*v(t)*sin(\\varphi(t)) + 8*I_w*Derivative(y(t), t) + d_w**2*m*(h_bc*sin(\\varphi(t))*cos(\\theta(t))*Derivative(\\theta(t), t) + v(t)*sin(\\varphi(t)) + Derivative(y(t), t)))/d_w**2],\n",
       "[I_r*Derivative(\\theta(t), t) + 2*I_w*c_{\\theta}*Derivative(\\theta(t), t) + h_bc**2*m*Derivative(\\theta(t), t) + h_bc*m*v(t)*cos(\\theta(t)) + h_bc*m*sin(\\varphi(t))*cos(\\theta(t))*Derivative(y(t), t) + h_bc*m*cos(\\theta(t))*cos(\\varphi(t))*Derivative(x(t), t)],\n",
       "[                                                                                                                                                                 (8*I_w*e_b**2 + I_z*d_w**2 + d_w**2*h_bc**2*m*sin(\\theta(t))**2)*Derivative(\\varphi(t), t)/d_w**2]])"
      ],
      "text/latex": "$\\displaystyle \\left[\\begin{matrix}\\frac{8 I_{w} v{\\left(t \\right)} \\cos{\\left(\\varphi{\\left(t \\right)} \\right)} + 8 I_{w} \\frac{d}{d t} x{\\left(t \\right)} + d_{w}^{2} m \\left(h_{bc} \\cos{\\left(\\theta{\\left(t \\right)} \\right)} \\cos{\\left(\\varphi{\\left(t \\right)} \\right)} \\frac{d}{d t} \\theta{\\left(t \\right)} + v{\\left(t \\right)} \\cos{\\left(\\varphi{\\left(t \\right)} \\right)} + \\frac{d}{d t} x{\\left(t \\right)}\\right)}{d_{w}^{2}}\\\\\\frac{8 I_{w} v{\\left(t \\right)} \\sin{\\left(\\varphi{\\left(t \\right)} \\right)} + 8 I_{w} \\frac{d}{d t} y{\\left(t \\right)} + d_{w}^{2} m \\left(h_{bc} \\sin{\\left(\\varphi{\\left(t \\right)} \\right)} \\cos{\\left(\\theta{\\left(t \\right)} \\right)} \\frac{d}{d t} \\theta{\\left(t \\right)} + v{\\left(t \\right)} \\sin{\\left(\\varphi{\\left(t \\right)} \\right)} + \\frac{d}{d t} y{\\left(t \\right)}\\right)}{d_{w}^{2}}\\\\I_{r} \\frac{d}{d t} \\theta{\\left(t \\right)} + 2 I_{w} c_{\\theta} \\frac{d}{d t} \\theta{\\left(t \\right)} + h_{bc}^{2} m \\frac{d}{d t} \\theta{\\left(t \\right)} + h_{bc} m v{\\left(t \\right)} \\cos{\\left(\\theta{\\left(t \\right)} \\right)} + h_{bc} m \\sin{\\left(\\varphi{\\left(t \\right)} \\right)} \\cos{\\left(\\theta{\\left(t \\right)} \\right)} \\frac{d}{d t} y{\\left(t \\right)} + h_{bc} m \\cos{\\left(\\theta{\\left(t \\right)} \\right)} \\cos{\\left(\\varphi{\\left(t \\right)} \\right)} \\frac{d}{d t} x{\\left(t \\right)}\\\\\\frac{\\left(8 I_{w} e_{b}^{2} + I_{z} d_{w}^{2} + d_{w}^{2} h_{bc}^{2} m \\sin^{2}{\\left(\\theta{\\left(t \\right)} \\right)}\\right) \\frac{d}{d t} \\varphi{\\left(t \\right)}}{d_{w}^{2}}\\end{matrix}\\right]$"
     },
     "metadata": {},
     "output_type": "display_data"
    }
   ],
   "execution_count": 23
  },
  {
   "metadata": {
    "ExecuteTime": {
     "end_time": "2025-07-11T23:01:50.719017Z",
     "start_time": "2025-07-11T23:01:47.125474Z"
    }
   },
   "cell_type": "code",
   "source": [
    "T_gradqd_dot = T_gradqd_exp.diff(t)\n",
    "\n",
    "# Output\n",
    "T_gradqd_dot_exp = sp.expand(T_gradqd_dot)\n",
    "T_gradqd_dot = sp.simplify(T_gradqd_dot_exp)\n",
    "display(T_gradqd_dot)"
   ],
   "outputs": [
    {
     "data": {
      "text/plain": [
       "Matrix([\n",
       "[                                                                                                                                                                                                              (-8*I_w*v(t)*sin(\\varphi(t))*Derivative(\\varphi(t), t) + 8*I_w*cos(\\varphi(t))*Derivative(v(t), t) + 8*I_w*Derivative(x(t), (t, 2)) + d_w**2*m*(-h_bc*sin(\\theta(t))*cos(\\varphi(t))*Derivative(\\theta(t), t)**2 - h_bc*sin(\\varphi(t))*cos(\\theta(t))*Derivative(\\theta(t), t)*Derivative(\\varphi(t), t) + h_bc*cos(\\theta(t))*cos(\\varphi(t))*Derivative(\\theta(t), (t, 2)) - v(t)*sin(\\varphi(t))*Derivative(\\varphi(t), t) + cos(\\varphi(t))*Derivative(v(t), t) + Derivative(x(t), (t, 2))))/d_w**2],\n",
       "[                                                                                                                                                                                                               (8*I_w*v(t)*cos(\\varphi(t))*Derivative(\\varphi(t), t) + 8*I_w*sin(\\varphi(t))*Derivative(v(t), t) + 8*I_w*Derivative(y(t), (t, 2)) + d_w**2*m*(-h_bc*sin(\\theta(t))*sin(\\varphi(t))*Derivative(\\theta(t), t)**2 + h_bc*sin(\\varphi(t))*cos(\\theta(t))*Derivative(\\theta(t), (t, 2)) + h_bc*cos(\\theta(t))*cos(\\varphi(t))*Derivative(\\theta(t), t)*Derivative(\\varphi(t), t) + v(t)*cos(\\varphi(t))*Derivative(\\varphi(t), t) + sin(\\varphi(t))*Derivative(v(t), t) + Derivative(y(t), (t, 2))))/d_w**2],\n",
       "[I_r*Derivative(\\theta(t), (t, 2)) + 2*I_w*c_{\\theta}*Derivative(\\theta(t), (t, 2)) + h_bc**2*m*Derivative(\\theta(t), (t, 2)) - h_bc*m*v(t)*sin(\\theta(t))*Derivative(\\theta(t), t) - h_bc*m*sin(\\theta(t))*sin(\\varphi(t))*Derivative(\\theta(t), t)*Derivative(y(t), t) - h_bc*m*sin(\\theta(t))*cos(\\varphi(t))*Derivative(\\theta(t), t)*Derivative(x(t), t) - h_bc*m*sin(\\varphi(t))*cos(\\theta(t))*Derivative(\\varphi(t), t)*Derivative(x(t), t) + h_bc*m*sin(\\varphi(t))*cos(\\theta(t))*Derivative(y(t), (t, 2)) + h_bc*m*cos(\\theta(t))*cos(\\varphi(t))*Derivative(\\varphi(t), t)*Derivative(y(t), t) + h_bc*m*cos(\\theta(t))*cos(\\varphi(t))*Derivative(x(t), (t, 2)) + h_bc*m*cos(\\theta(t))*Derivative(v(t), t)],\n",
       "[                                                                                                                                                                                                                                                                                                                                                                                                                                    8*I_w*e_b**2*Derivative(\\varphi(t), (t, 2))/d_w**2 + I_z*Derivative(\\varphi(t), (t, 2)) + h_bc**2*m*sin(2*\\theta(t))*Derivative(\\theta(t), t)*Derivative(\\varphi(t), t) - h_bc**2*m*cos(2*\\theta(t))*Derivative(\\varphi(t), (t, 2))/2 + h_bc**2*m*Derivative(\\varphi(t), (t, 2))/2]])"
      ],
      "text/latex": "$\\displaystyle \\left[\\begin{matrix}\\frac{- 8 I_{w} v{\\left(t \\right)} \\sin{\\left(\\varphi{\\left(t \\right)} \\right)} \\frac{d}{d t} \\varphi{\\left(t \\right)} + 8 I_{w} \\cos{\\left(\\varphi{\\left(t \\right)} \\right)} \\frac{d}{d t} v{\\left(t \\right)} + 8 I_{w} \\frac{d^{2}}{d t^{2}} x{\\left(t \\right)} + d_{w}^{2} m \\left(- h_{bc} \\sin{\\left(\\theta{\\left(t \\right)} \\right)} \\cos{\\left(\\varphi{\\left(t \\right)} \\right)} \\left(\\frac{d}{d t} \\theta{\\left(t \\right)}\\right)^{2} - h_{bc} \\sin{\\left(\\varphi{\\left(t \\right)} \\right)} \\cos{\\left(\\theta{\\left(t \\right)} \\right)} \\frac{d}{d t} \\theta{\\left(t \\right)} \\frac{d}{d t} \\varphi{\\left(t \\right)} + h_{bc} \\cos{\\left(\\theta{\\left(t \\right)} \\right)} \\cos{\\left(\\varphi{\\left(t \\right)} \\right)} \\frac{d^{2}}{d t^{2}} \\theta{\\left(t \\right)} - v{\\left(t \\right)} \\sin{\\left(\\varphi{\\left(t \\right)} \\right)} \\frac{d}{d t} \\varphi{\\left(t \\right)} + \\cos{\\left(\\varphi{\\left(t \\right)} \\right)} \\frac{d}{d t} v{\\left(t \\right)} + \\frac{d^{2}}{d t^{2}} x{\\left(t \\right)}\\right)}{d_{w}^{2}}\\\\\\frac{8 I_{w} v{\\left(t \\right)} \\cos{\\left(\\varphi{\\left(t \\right)} \\right)} \\frac{d}{d t} \\varphi{\\left(t \\right)} + 8 I_{w} \\sin{\\left(\\varphi{\\left(t \\right)} \\right)} \\frac{d}{d t} v{\\left(t \\right)} + 8 I_{w} \\frac{d^{2}}{d t^{2}} y{\\left(t \\right)} + d_{w}^{2} m \\left(- h_{bc} \\sin{\\left(\\theta{\\left(t \\right)} \\right)} \\sin{\\left(\\varphi{\\left(t \\right)} \\right)} \\left(\\frac{d}{d t} \\theta{\\left(t \\right)}\\right)^{2} + h_{bc} \\sin{\\left(\\varphi{\\left(t \\right)} \\right)} \\cos{\\left(\\theta{\\left(t \\right)} \\right)} \\frac{d^{2}}{d t^{2}} \\theta{\\left(t \\right)} + h_{bc} \\cos{\\left(\\theta{\\left(t \\right)} \\right)} \\cos{\\left(\\varphi{\\left(t \\right)} \\right)} \\frac{d}{d t} \\theta{\\left(t \\right)} \\frac{d}{d t} \\varphi{\\left(t \\right)} + v{\\left(t \\right)} \\cos{\\left(\\varphi{\\left(t \\right)} \\right)} \\frac{d}{d t} \\varphi{\\left(t \\right)} + \\sin{\\left(\\varphi{\\left(t \\right)} \\right)} \\frac{d}{d t} v{\\left(t \\right)} + \\frac{d^{2}}{d t^{2}} y{\\left(t \\right)}\\right)}{d_{w}^{2}}\\\\I_{r} \\frac{d^{2}}{d t^{2}} \\theta{\\left(t \\right)} + 2 I_{w} c_{\\theta} \\frac{d^{2}}{d t^{2}} \\theta{\\left(t \\right)} + h_{bc}^{2} m \\frac{d^{2}}{d t^{2}} \\theta{\\left(t \\right)} - h_{bc} m v{\\left(t \\right)} \\sin{\\left(\\theta{\\left(t \\right)} \\right)} \\frac{d}{d t} \\theta{\\left(t \\right)} - h_{bc} m \\sin{\\left(\\theta{\\left(t \\right)} \\right)} \\sin{\\left(\\varphi{\\left(t \\right)} \\right)} \\frac{d}{d t} \\theta{\\left(t \\right)} \\frac{d}{d t} y{\\left(t \\right)} - h_{bc} m \\sin{\\left(\\theta{\\left(t \\right)} \\right)} \\cos{\\left(\\varphi{\\left(t \\right)} \\right)} \\frac{d}{d t} \\theta{\\left(t \\right)} \\frac{d}{d t} x{\\left(t \\right)} - h_{bc} m \\sin{\\left(\\varphi{\\left(t \\right)} \\right)} \\cos{\\left(\\theta{\\left(t \\right)} \\right)} \\frac{d}{d t} \\varphi{\\left(t \\right)} \\frac{d}{d t} x{\\left(t \\right)} + h_{bc} m \\sin{\\left(\\varphi{\\left(t \\right)} \\right)} \\cos{\\left(\\theta{\\left(t \\right)} \\right)} \\frac{d^{2}}{d t^{2}} y{\\left(t \\right)} + h_{bc} m \\cos{\\left(\\theta{\\left(t \\right)} \\right)} \\cos{\\left(\\varphi{\\left(t \\right)} \\right)} \\frac{d}{d t} \\varphi{\\left(t \\right)} \\frac{d}{d t} y{\\left(t \\right)} + h_{bc} m \\cos{\\left(\\theta{\\left(t \\right)} \\right)} \\cos{\\left(\\varphi{\\left(t \\right)} \\right)} \\frac{d^{2}}{d t^{2}} x{\\left(t \\right)} + h_{bc} m \\cos{\\left(\\theta{\\left(t \\right)} \\right)} \\frac{d}{d t} v{\\left(t \\right)}\\\\\\frac{8 I_{w} e_{b}^{2} \\frac{d^{2}}{d t^{2}} \\varphi{\\left(t \\right)}}{d_{w}^{2}} + I_{z} \\frac{d^{2}}{d t^{2}} \\varphi{\\left(t \\right)} + h_{bc}^{2} m \\sin{\\left(2 \\theta{\\left(t \\right)} \\right)} \\frac{d}{d t} \\theta{\\left(t \\right)} \\frac{d}{d t} \\varphi{\\left(t \\right)} - \\frac{h_{bc}^{2} m \\cos{\\left(2 \\theta{\\left(t \\right)} \\right)} \\frac{d^{2}}{d t^{2}} \\varphi{\\left(t \\right)}}{2} + \\frac{h_{bc}^{2} m \\frac{d^{2}}{d t^{2}} \\varphi{\\left(t \\right)}}{2}\\end{matrix}\\right]$"
     },
     "metadata": {},
     "output_type": "display_data"
    }
   ],
   "execution_count": 24
  },
  {
   "metadata": {},
   "cell_type": "markdown",
   "source": "#### Potential energy of the body"
  },
  {
   "metadata": {
    "ExecuteTime": {
     "end_time": "2025-07-11T23:01:50.784339Z",
     "start_time": "2025-07-11T23:01:50.770713Z"
    }
   },
   "cell_type": "code",
   "source": [
    "V = m * g * Xc.dot(sp.Matrix([0, 0, 1]))\n",
    "\n",
    "# Output\n",
    "V = sp.simplify(V)\n",
    "display(V)"
   ],
   "outputs": [
    {
     "data": {
      "text/plain": [
       "g*h_bc*m*cos(\\theta(t))"
      ],
      "text/latex": "$\\displaystyle g h_{bc} m \\cos{\\left(\\theta{\\left(t \\right)} \\right)}$"
     },
     "metadata": {},
     "output_type": "display_data"
    }
   ],
   "execution_count": 25
  },
  {
   "metadata": {
    "ExecuteTime": {
     "end_time": "2025-07-11T23:01:50.866740Z",
     "start_time": "2025-07-11T23:01:50.850811Z"
    }
   },
   "cell_type": "code",
   "source": [
    "V_gradq = sp.Matrix([\n",
    "    V.diff(x),\n",
    "    V.diff(y),\n",
    "    V.diff(theta),\n",
    "    V.diff(phi),\n",
    "])\n",
    "\n",
    "# Output\n",
    "V_gradq = sp.simplify(V_gradq)\n",
    "display(V_gradq)"
   ],
   "outputs": [
    {
     "data": {
      "text/plain": [
       "Matrix([\n",
       "[                       0],\n",
       "[                       0],\n",
       "[-g*h_bc*m*sin(\\theta(t))],\n",
       "[                       0]])"
      ],
      "text/latex": "$\\displaystyle \\left[\\begin{matrix}0\\\\0\\\\- g h_{bc} m \\sin{\\left(\\theta{\\left(t \\right)} \\right)}\\\\0\\end{matrix}\\right]$"
     },
     "metadata": {},
     "output_type": "display_data"
    }
   ],
   "execution_count": 26
  },
  {
   "metadata": {
    "ExecuteTime": {
     "end_time": "2025-07-11T23:01:50.960811Z",
     "start_time": "2025-07-11T23:01:50.949894Z"
    }
   },
   "cell_type": "code",
   "source": [
    "V_gradqd = sp.Matrix([\n",
    "    V.diff(x_dot),\n",
    "    V.diff(y_dot),\n",
    "    V.diff(theta_dot),\n",
    "    V.diff(phi_dot),\n",
    "])\n",
    "\n",
    "# Output\n",
    "V_gradqd = sp.simplify(V_gradqd)\n",
    "display(V_gradqd)"
   ],
   "outputs": [
    {
     "data": {
      "text/plain": [
       "Matrix([\n",
       "[0],\n",
       "[0],\n",
       "[0],\n",
       "[0]])"
      ],
      "text/latex": "$\\displaystyle \\left[\\begin{matrix}0\\\\0\\\\0\\\\0\\end{matrix}\\right]$"
     },
     "metadata": {},
     "output_type": "display_data"
    }
   ],
   "execution_count": 27
  },
  {
   "metadata": {
    "ExecuteTime": {
     "end_time": "2025-07-11T23:01:51.062066Z",
     "start_time": "2025-07-11T23:01:51.058116Z"
    }
   },
   "cell_type": "code",
   "source": [
    "V_gradqd_dot = V_gradqd.diff(t)\n",
    "\n",
    "# Output\n",
    "V_gradqd_dot = sp.simplify(V_gradqd_dot)\n",
    "display(V_gradqd_dot)"
   ],
   "outputs": [
    {
     "data": {
      "text/plain": [
       "Matrix([\n",
       "[0],\n",
       "[0],\n",
       "[0],\n",
       "[0]])"
      ],
      "text/latex": "$\\displaystyle \\left[\\begin{matrix}0\\\\0\\\\0\\\\0\\end{matrix}\\right]$"
     },
     "metadata": {},
     "output_type": "display_data"
    }
   ],
   "execution_count": 28
  },
  {
   "metadata": {},
   "cell_type": "markdown",
   "source": [
    "#### Dissipation energy of the body\n",
    "\n",
    "Assuming the hypothesis of no slip, then the dissipation from the wheel-ground contact $ D_w $ is zero.\n",
    "\n",
    "Dissipation from the axle $ D_a $.\n",
    "\n",
    "Assuming the hypothesis $ \\frac{ 2 ||\\dot{X_l}|| }{ dw } \\gg \\dot{\\theta} $, then the kinetic energy from $ \\omega_l $ and $ \\omega_r $ can be simplified by removing the effect of $ \\dot{\\theta} $.\n",
    "This hypothesis is valid when $ \\dot{\\theta} \\approx 0 $ or $ \\dot{\\theta} \\approx \\omega_l + \\omega_r $.\n",
    "\n",
    "We assume that $ \\dot{\\theta} \\ll \\omega_l + \\omega_r $ iff $ \\dot{\\theta} \\approx 0 $.\n",
    "Therefore, we can add a correction term only for the case $ \\dot{\\theta} \\gg \\omega_l + \\omega_r $ by adding $ c_{\\theta} \\cdot 2 \\dot{\\theta} ^2 $."
   ]
  },
  {
   "metadata": {
    "ExecuteTime": {
     "end_time": "2025-07-11T23:01:51.421994Z",
     "start_time": "2025-07-11T23:01:51.142572Z"
    }
   },
   "cell_type": "code",
   "source": [
    "Da = sp_half * ba * (\n",
    "        (omega_l + theta_dot) ** 2\n",
    "        + (omega_r + theta_dot) ** 2\n",
    "        + ct * 2 * theta_dot ** 2\n",
    ")\n",
    "\n",
    "# Output\n",
    "Da_exp = sp.expand(Da)\n",
    "Da = sp.simplify(Da_exp)\n",
    "display(Da)"
   ],
   "outputs": [
    {
     "data": {
      "text/plain": [
       "b_a*(c_{\\theta}*d_w**2*Derivative(\\theta(t), t)**2 + 4*e_b**2*Derivative(\\varphi(t), t)**2 + 4*v(t)**2 + 8*v(t)*sin(\\varphi(t))*Derivative(y(t), t) + 8*v(t)*cos(\\varphi(t))*Derivative(x(t), t) + 4*Derivative(x(t), t)**2 + 4*Derivative(y(t), t)**2)/d_w**2"
      ],
      "text/latex": "$\\displaystyle \\frac{b_{a} \\left(c_{\\theta} d_{w}^{2} \\left(\\frac{d}{d t} \\theta{\\left(t \\right)}\\right)^{2} + 4 e_{b}^{2} \\left(\\frac{d}{d t} \\varphi{\\left(t \\right)}\\right)^{2} + 4 v^{2}{\\left(t \\right)} + 8 v{\\left(t \\right)} \\sin{\\left(\\varphi{\\left(t \\right)} \\right)} \\frac{d}{d t} y{\\left(t \\right)} + 8 v{\\left(t \\right)} \\cos{\\left(\\varphi{\\left(t \\right)} \\right)} \\frac{d}{d t} x{\\left(t \\right)} + 4 \\left(\\frac{d}{d t} x{\\left(t \\right)}\\right)^{2} + 4 \\left(\\frac{d}{d t} y{\\left(t \\right)}\\right)^{2}\\right)}{d_{w}^{2}}$"
     },
     "metadata": {},
     "output_type": "display_data"
    }
   ],
   "execution_count": 29
  },
  {
   "metadata": {
    "ExecuteTime": {
     "end_time": "2025-07-11T23:01:51.630551Z",
     "start_time": "2025-07-11T23:01:51.468347Z"
    }
   },
   "cell_type": "code",
   "source": [
    "D = Da\n",
    "\n",
    "# Output\n",
    "D = sp.simplify(D)\n",
    "display(D)"
   ],
   "outputs": [
    {
     "data": {
      "text/plain": [
       "b_a*(c_{\\theta}*d_w**2*Derivative(\\theta(t), t)**2 + 4*e_b**2*Derivative(\\varphi(t), t)**2 + 4*v(t)**2 + 8*v(t)*sin(\\varphi(t))*Derivative(y(t), t) + 8*v(t)*cos(\\varphi(t))*Derivative(x(t), t) + 4*Derivative(x(t), t)**2 + 4*Derivative(y(t), t)**2)/d_w**2"
      ],
      "text/latex": "$\\displaystyle \\frac{b_{a} \\left(c_{\\theta} d_{w}^{2} \\left(\\frac{d}{d t} \\theta{\\left(t \\right)}\\right)^{2} + 4 e_{b}^{2} \\left(\\frac{d}{d t} \\varphi{\\left(t \\right)}\\right)^{2} + 4 v^{2}{\\left(t \\right)} + 8 v{\\left(t \\right)} \\sin{\\left(\\varphi{\\left(t \\right)} \\right)} \\frac{d}{d t} y{\\left(t \\right)} + 8 v{\\left(t \\right)} \\cos{\\left(\\varphi{\\left(t \\right)} \\right)} \\frac{d}{d t} x{\\left(t \\right)} + 4 \\left(\\frac{d}{d t} x{\\left(t \\right)}\\right)^{2} + 4 \\left(\\frac{d}{d t} y{\\left(t \\right)}\\right)^{2}\\right)}{d_{w}^{2}}$"
     },
     "metadata": {},
     "output_type": "display_data"
    }
   ],
   "execution_count": 30
  },
  {
   "metadata": {
    "ExecuteTime": {
     "end_time": "2025-07-11T23:01:51.748821Z",
     "start_time": "2025-07-11T23:01:51.669696Z"
    }
   },
   "cell_type": "code",
   "source": [
    "D_gradq = sp.Matrix([\n",
    "    D.diff(x),\n",
    "    D.diff(y),\n",
    "    D.diff(theta),\n",
    "    D.diff(phi),\n",
    "])\n",
    "\n",
    "# Output\n",
    "D_gradq = sp.simplify(D_gradq)\n",
    "display(D_gradq)"
   ],
   "outputs": [
    {
     "data": {
      "text/plain": [
       "Matrix([\n",
       "[                                                                                             0],\n",
       "[                                                                                             0],\n",
       "[                                                                                             0],\n",
       "[8*b_a*(-sin(\\varphi(t))*Derivative(x(t), t) + cos(\\varphi(t))*Derivative(y(t), t))*v(t)/d_w**2]])"
      ],
      "text/latex": "$\\displaystyle \\left[\\begin{matrix}0\\\\0\\\\0\\\\\\frac{8 b_{a} \\left(- \\sin{\\left(\\varphi{\\left(t \\right)} \\right)} \\frac{d}{d t} x{\\left(t \\right)} + \\cos{\\left(\\varphi{\\left(t \\right)} \\right)} \\frac{d}{d t} y{\\left(t \\right)}\\right) v{\\left(t \\right)}}{d_{w}^{2}}\\end{matrix}\\right]$"
     },
     "metadata": {},
     "output_type": "display_data"
    }
   ],
   "execution_count": 31
  },
  {
   "metadata": {
    "ExecuteTime": {
     "end_time": "2025-07-11T23:01:51.933970Z",
     "start_time": "2025-07-11T23:01:51.816465Z"
    }
   },
   "cell_type": "code",
   "source": [
    "D_gradqd = sp.Matrix([\n",
    "    D.diff(x_dot),\n",
    "    D.diff(y_dot),\n",
    "    D.diff(theta_dot),\n",
    "    D.diff(phi_dot),\n",
    "])\n",
    "\n",
    "# Output\n",
    "D_gradqd = sp.simplify(D_gradqd)\n",
    "display(D_gradqd)"
   ],
   "outputs": [
    {
     "data": {
      "text/plain": [
       "Matrix([\n",
       "[8*b_a*(v(t)*cos(\\varphi(t)) + Derivative(x(t), t))/d_w**2],\n",
       "[8*b_a*(v(t)*sin(\\varphi(t)) + Derivative(y(t), t))/d_w**2],\n",
       "[                2*b_a*c_{\\theta}*Derivative(\\theta(t), t)],\n",
       "[            8*b_a*e_b**2*Derivative(\\varphi(t), t)/d_w**2]])"
      ],
      "text/latex": "$\\displaystyle \\left[\\begin{matrix}\\frac{8 b_{a} \\left(v{\\left(t \\right)} \\cos{\\left(\\varphi{\\left(t \\right)} \\right)} + \\frac{d}{d t} x{\\left(t \\right)}\\right)}{d_{w}^{2}}\\\\\\frac{8 b_{a} \\left(v{\\left(t \\right)} \\sin{\\left(\\varphi{\\left(t \\right)} \\right)} + \\frac{d}{d t} y{\\left(t \\right)}\\right)}{d_{w}^{2}}\\\\2 b_{a} c_{\\theta} \\frac{d}{d t} \\theta{\\left(t \\right)}\\\\\\frac{8 b_{a} e_{b}^{2} \\frac{d}{d t} \\varphi{\\left(t \\right)}}{d_{w}^{2}}\\end{matrix}\\right]$"
     },
     "metadata": {},
     "output_type": "display_data"
    }
   ],
   "execution_count": 32
  },
  {
   "metadata": {},
   "cell_type": "markdown",
   "source": [
    "#### External forces\n",
    "\n",
    "Air drag $ E_d $ with executed work $ Q_d $. Assuming the hypothesis of the air relative velocity being small, we can take the first-order approximation $ x^2 \\approx x $."
   ]
  },
  {
   "metadata": {
    "ExecuteTime": {
     "end_time": "2025-07-11T23:01:52.162619Z",
     "start_time": "2025-07-11T23:01:51.991759Z"
    }
   },
   "cell_type": "code",
   "source": [
    "Xair_dot = Xc_dot + hbc * theta_dot * sp.Matrix([sp.sin(theta) * sp.cos(phi), sp.sin(theta) * sp.sin(phi), sp.cos(theta)])\n",
    "Xair_dot = Xc_dot\n",
    "Ed = - sp_half * rho * bd * Xair_dot\n",
    "\n",
    "# Output\n",
    "Ed = sp.simplify(Ed)\n",
    "display(Ed)"
   ],
   "outputs": [
    {
     "data": {
      "text/plain": [
       "Matrix([\n",
       "[-\\rho*b_d*(h_bc*cos(\\theta(t))*cos(\\varphi(t))*Derivative(\\theta(t), t) + v(t)*cos(\\varphi(t)) + Derivative(x(t), t))/2],\n",
       "[-\\rho*b_d*(h_bc*sin(\\varphi(t))*cos(\\theta(t))*Derivative(\\theta(t), t) + v(t)*sin(\\varphi(t)) + Derivative(y(t), t))/2],\n",
       "[                                                                \\rho*b_d*h_bc*sin(\\theta(t))*Derivative(\\theta(t), t)/2]])"
      ],
      "text/latex": "$\\displaystyle \\left[\\begin{matrix}- \\frac{\\rho b_{d} \\left(h_{bc} \\cos{\\left(\\theta{\\left(t \\right)} \\right)} \\cos{\\left(\\varphi{\\left(t \\right)} \\right)} \\frac{d}{d t} \\theta{\\left(t \\right)} + v{\\left(t \\right)} \\cos{\\left(\\varphi{\\left(t \\right)} \\right)} + \\frac{d}{d t} x{\\left(t \\right)}\\right)}{2}\\\\- \\frac{\\rho b_{d} \\left(h_{bc} \\sin{\\left(\\varphi{\\left(t \\right)} \\right)} \\cos{\\left(\\theta{\\left(t \\right)} \\right)} \\frac{d}{d t} \\theta{\\left(t \\right)} + v{\\left(t \\right)} \\sin{\\left(\\varphi{\\left(t \\right)} \\right)} + \\frac{d}{d t} y{\\left(t \\right)}\\right)}{2}\\\\\\frac{\\rho b_{d} h_{bc} \\sin{\\left(\\theta{\\left(t \\right)} \\right)} \\frac{d}{d t} \\theta{\\left(t \\right)}}{2}\\end{matrix}\\right]$"
     },
     "metadata": {},
     "output_type": "display_data"
    }
   ],
   "execution_count": 33
  },
  {
   "metadata": {
    "ExecuteTime": {
     "end_time": "2025-07-11T23:01:52.639400Z",
     "start_time": "2025-07-11T23:01:52.225154Z"
    }
   },
   "cell_type": "code",
   "source": [
    "Qd_gradq = sp.Matrix([\n",
    "    Ed.dot(Xc.diff(x)),\n",
    "    Ed.dot(Xc.diff(y)),\n",
    "    Ed.dot(Xc.diff(theta)),\n",
    "    Ed.dot(Xc.diff(phi)),\n",
    "])\n",
    "\n",
    "# Output\n",
    "Qd_gradq = sp.simplify(Qd_gradq)\n",
    "display(Qd_gradq)"
   ],
   "outputs": [
    {
     "data": {
      "text/plain": [
       "Matrix([\n",
       "[                                                         -\\rho*b_d*(h_bc*cos(\\theta(t))*cos(\\varphi(t))*Derivative(\\theta(t), t) + v(t)*cos(\\varphi(t)) + Derivative(x(t), t))/2],\n",
       "[                                                         -\\rho*b_d*(h_bc*sin(\\varphi(t))*cos(\\theta(t))*Derivative(\\theta(t), t) + v(t)*sin(\\varphi(t)) + Derivative(y(t), t))/2],\n",
       "[-\\rho*b_d*h_bc*(h_bc*Derivative(\\theta(t), t) + v(t)*cos(\\theta(t)) + sin(\\varphi(t))*cos(\\theta(t))*Derivative(y(t), t) + cos(\\theta(t))*cos(\\varphi(t))*Derivative(x(t), t))/2],\n",
       "[                                                                      \\rho*b_d*h_bc*(sin(\\varphi(t))*Derivative(x(t), t) - cos(\\varphi(t))*Derivative(y(t), t))*sin(\\theta(t))/2]])"
      ],
      "text/latex": "$\\displaystyle \\left[\\begin{matrix}- \\frac{\\rho b_{d} \\left(h_{bc} \\cos{\\left(\\theta{\\left(t \\right)} \\right)} \\cos{\\left(\\varphi{\\left(t \\right)} \\right)} \\frac{d}{d t} \\theta{\\left(t \\right)} + v{\\left(t \\right)} \\cos{\\left(\\varphi{\\left(t \\right)} \\right)} + \\frac{d}{d t} x{\\left(t \\right)}\\right)}{2}\\\\- \\frac{\\rho b_{d} \\left(h_{bc} \\sin{\\left(\\varphi{\\left(t \\right)} \\right)} \\cos{\\left(\\theta{\\left(t \\right)} \\right)} \\frac{d}{d t} \\theta{\\left(t \\right)} + v{\\left(t \\right)} \\sin{\\left(\\varphi{\\left(t \\right)} \\right)} + \\frac{d}{d t} y{\\left(t \\right)}\\right)}{2}\\\\- \\frac{\\rho b_{d} h_{bc} \\left(h_{bc} \\frac{d}{d t} \\theta{\\left(t \\right)} + v{\\left(t \\right)} \\cos{\\left(\\theta{\\left(t \\right)} \\right)} + \\sin{\\left(\\varphi{\\left(t \\right)} \\right)} \\cos{\\left(\\theta{\\left(t \\right)} \\right)} \\frac{d}{d t} y{\\left(t \\right)} + \\cos{\\left(\\theta{\\left(t \\right)} \\right)} \\cos{\\left(\\varphi{\\left(t \\right)} \\right)} \\frac{d}{d t} x{\\left(t \\right)}\\right)}{2}\\\\\\frac{\\rho b_{d} h_{bc} \\left(\\sin{\\left(\\varphi{\\left(t \\right)} \\right)} \\frac{d}{d t} x{\\left(t \\right)} - \\cos{\\left(\\varphi{\\left(t \\right)} \\right)} \\frac{d}{d t} y{\\left(t \\right)}\\right) \\sin{\\left(\\theta{\\left(t \\right)} \\right)}}{2}\\end{matrix}\\right]$"
     },
     "metadata": {},
     "output_type": "display_data"
    }
   ],
   "execution_count": 34
  },
  {
   "metadata": {
    "ExecuteTime": {
     "end_time": "2025-07-11T23:01:52.686797Z",
     "start_time": "2025-07-11T23:01:52.680194Z"
    }
   },
   "cell_type": "code",
   "source": [
    "Q_gradq = Qd_gradq\n",
    "Q_gradq"
   ],
   "outputs": [
    {
     "data": {
      "text/plain": [
       "Matrix([\n",
       "[                                                         -\\rho*b_d*(h_bc*cos(\\theta(t))*cos(\\varphi(t))*Derivative(\\theta(t), t) + v(t)*cos(\\varphi(t)) + Derivative(x(t), t))/2],\n",
       "[                                                         -\\rho*b_d*(h_bc*sin(\\varphi(t))*cos(\\theta(t))*Derivative(\\theta(t), t) + v(t)*sin(\\varphi(t)) + Derivative(y(t), t))/2],\n",
       "[-\\rho*b_d*h_bc*(h_bc*Derivative(\\theta(t), t) + v(t)*cos(\\theta(t)) + sin(\\varphi(t))*cos(\\theta(t))*Derivative(y(t), t) + cos(\\theta(t))*cos(\\varphi(t))*Derivative(x(t), t))/2],\n",
       "[                                                                      \\rho*b_d*h_bc*(sin(\\varphi(t))*Derivative(x(t), t) - cos(\\varphi(t))*Derivative(y(t), t))*sin(\\theta(t))/2]])"
      ],
      "text/latex": "$\\displaystyle \\left[\\begin{matrix}- \\frac{\\rho b_{d} \\left(h_{bc} \\cos{\\left(\\theta{\\left(t \\right)} \\right)} \\cos{\\left(\\varphi{\\left(t \\right)} \\right)} \\frac{d}{d t} \\theta{\\left(t \\right)} + v{\\left(t \\right)} \\cos{\\left(\\varphi{\\left(t \\right)} \\right)} + \\frac{d}{d t} x{\\left(t \\right)}\\right)}{2}\\\\- \\frac{\\rho b_{d} \\left(h_{bc} \\sin{\\left(\\varphi{\\left(t \\right)} \\right)} \\cos{\\left(\\theta{\\left(t \\right)} \\right)} \\frac{d}{d t} \\theta{\\left(t \\right)} + v{\\left(t \\right)} \\sin{\\left(\\varphi{\\left(t \\right)} \\right)} + \\frac{d}{d t} y{\\left(t \\right)}\\right)}{2}\\\\- \\frac{\\rho b_{d} h_{bc} \\left(h_{bc} \\frac{d}{d t} \\theta{\\left(t \\right)} + v{\\left(t \\right)} \\cos{\\left(\\theta{\\left(t \\right)} \\right)} + \\sin{\\left(\\varphi{\\left(t \\right)} \\right)} \\cos{\\left(\\theta{\\left(t \\right)} \\right)} \\frac{d}{d t} y{\\left(t \\right)} + \\cos{\\left(\\theta{\\left(t \\right)} \\right)} \\cos{\\left(\\varphi{\\left(t \\right)} \\right)} \\frac{d}{d t} x{\\left(t \\right)}\\right)}{2}\\\\\\frac{\\rho b_{d} h_{bc} \\left(\\sin{\\left(\\varphi{\\left(t \\right)} \\right)} \\frac{d}{d t} x{\\left(t \\right)} - \\cos{\\left(\\varphi{\\left(t \\right)} \\right)} \\frac{d}{d t} y{\\left(t \\right)}\\right) \\sin{\\left(\\theta{\\left(t \\right)} \\right)}}{2}\\end{matrix}\\right]$"
     },
     "execution_count": 35,
     "metadata": {},
     "output_type": "execute_result"
    }
   ],
   "execution_count": 35
  },
  {
   "metadata": {},
   "cell_type": "markdown",
   "source": [
    "#### Constraints\n",
    "\n",
    "The constraints are applied using Lagrange multipliers and Baumgarte stabilization to avoid numerical drift.\n",
    "\n",
    "Constraints:\n",
    "- $ z_{wheel} \\ge \\frac{ d_w }{ 2 } $\n",
    "- $ z_{tip} \\ge \\frac{ d_w }{ 2 } $"
   ]
  },
  {
   "metadata": {
    "ExecuteTime": {
     "end_time": "2025-07-11T23:01:52.783861Z",
     "start_time": "2025-07-11T23:01:52.778413Z"
    }
   },
   "cell_type": "code",
   "source": [
    "cons_zwheel = sp.Symbol(r'cons_{z,wheel}')\n",
    "cons_zwheel = -dw / 2\n",
    "\n",
    "Czwheel_gradq = sp.Matrix([sp.diff(cons_zwheel, qi) for qi in q])\n",
    "Czwheel_dot = sp.Matrix([sum(sp.diff(Czwheel_gradq[i], q[j]) * qd[j] for j in range(dof)) for i in range(dof)])\n",
    "Czwheel_dot_gradqd = sum(Czwheel_dot[i] * qd[i] for i in range(dof))\n",
    "\n",
    "# Output\n",
    "cons_zwheel"
   ],
   "outputs": [
    {
     "data": {
      "text/plain": [
       "-d_w/2"
      ],
      "text/latex": "$\\displaystyle - \\frac{d_{w}}{2}$"
     },
     "execution_count": 36,
     "metadata": {},
     "output_type": "execute_result"
    }
   ],
   "execution_count": 36
  },
  {
   "metadata": {
    "ExecuteTime": {
     "end_time": "2025-07-11T23:01:52.898862Z",
     "start_time": "2025-07-11T23:01:52.886444Z"
    }
   },
   "cell_type": "code",
   "source": [
    "cons_ztip = sp.Symbol(r'cons_{z,tip}')\n",
    "cons_ztip = hb * sp.cos(theta) - dw / 2\n",
    "\n",
    "Cztip_gradq = sp.Matrix([sp.diff(cons_ztip, qi) for qi in q])\n",
    "Cztip_dot = sp.Matrix([sum(sp.diff(Cztip_gradq[i], q[j]) * qd[j] for j in range(dof)) for i in range(dof)])\n",
    "Cztip_dot_gradqd = sum(Cztip_dot[i] * qd[i] for i in range(dof))\n",
    "\n",
    "# Output\n",
    "cons_ztip"
   ],
   "outputs": [
    {
     "data": {
      "text/plain": [
       "-d_w/2 + h_b*cos(\\theta(t))"
      ],
      "text/latex": "$\\displaystyle - \\frac{d_{w}}{2} + h_{b} \\cos{\\left(\\theta{\\left(t \\right)} \\right)}$"
     },
     "execution_count": 37,
     "metadata": {},
     "output_type": "execute_result"
    }
   ],
   "execution_count": 37
  },
  {
   "metadata": {
    "ExecuteTime": {
     "end_time": "2025-07-11T23:01:52.983712Z",
     "start_time": "2025-07-11T23:01:52.977457Z"
    }
   },
   "cell_type": "code",
   "source": [
    "# Cons = sp.Matrix([cons_zwheel, cons_ztip])\n",
    "Cons = sp.Matrix([cons_ztip])\n",
    "\n",
    "# Output\n",
    "Cons"
   ],
   "outputs": [
    {
     "data": {
      "text/plain": [
       "Matrix([[-d_w/2 + h_b*cos(\\theta(t))]])"
      ],
      "text/latex": "$\\displaystyle \\left[\\begin{matrix}- \\frac{d_{w}}{2} + h_{b} \\cos{\\left(\\theta{\\left(t \\right)} \\right)}\\end{matrix}\\right]$"
     },
     "execution_count": 38,
     "metadata": {},
     "output_type": "execute_result"
    }
   ],
   "execution_count": 38
  },
  {
   "metadata": {
    "ExecuteTime": {
     "end_time": "2025-07-11T23:01:53.085614Z",
     "start_time": "2025-07-11T23:01:53.081541Z"
    }
   },
   "cell_type": "code",
   "source": [
    "# Cons_gradq = sp.Matrix([\n",
    "#     Czwheel_gradq.T,\n",
    "#     Cztip_gradq.T,\n",
    "# ])\n",
    "Cons_gradq = sp.Matrix([\n",
    "    Cztip_gradq.T,\n",
    "])\n",
    "\n",
    "# Output\n",
    "Cons_gradq"
   ],
   "outputs": [
    {
     "data": {
      "text/plain": [
       "Matrix([[0, 0, -h_b*sin(\\theta(t)), 0]])"
      ],
      "text/latex": "$\\displaystyle \\left[\\begin{matrix}0 & 0 & - h_{b} \\sin{\\left(\\theta{\\left(t \\right)} \\right)} & 0\\end{matrix}\\right]$"
     },
     "execution_count": 39,
     "metadata": {},
     "output_type": "execute_result"
    }
   ],
   "execution_count": 39
  },
  {
   "metadata": {
    "ExecuteTime": {
     "end_time": "2025-07-11T23:01:53.183301Z",
     "start_time": "2025-07-11T23:01:53.179545Z"
    }
   },
   "cell_type": "code",
   "source": [
    "# Cons_dot_gradqd = sp.Matrix([Czwheel_dot_gradqd, Cztip_dot_gradqd])\n",
    "Cons_dot_gradqd = sp.Matrix([Cztip_dot_gradqd])\n",
    "\n",
    "# Output\n",
    "Cons_dot_gradqd"
   ],
   "outputs": [
    {
     "data": {
      "text/plain": [
       "Matrix([[-h_b*cos(\\theta(t))*Derivative(\\theta(t), t)**2]])"
      ],
      "text/latex": "$\\displaystyle \\left[\\begin{matrix}- h_{b} \\cos{\\left(\\theta{\\left(t \\right)} \\right)} \\left(\\frac{d}{d t} \\theta{\\left(t \\right)}\\right)^{2}\\end{matrix}\\right]$"
     },
     "execution_count": 40,
     "metadata": {},
     "output_type": "execute_result"
    }
   ],
   "execution_count": 40
  },
  {
   "metadata": {},
   "cell_type": "markdown",
   "source": " #### Lagrangian"
  },
  {
   "metadata": {
    "ExecuteTime": {
     "end_time": "2025-07-11T23:01:56.068329Z",
     "start_time": "2025-07-11T23:01:53.250612Z"
    }
   },
   "cell_type": "code",
   "source": [
    "L = T - V\n",
    "\n",
    "# Output\n",
    "L = sp.simplify(L)\n",
    "display(L)"
   ],
   "outputs": [
    {
     "data": {
      "text/plain": [
       "(8*I_w*e_b**2*Derivative(\\varphi(t), t)**2 + 8*I_w*v(t)**2 + 16*I_w*v(t)*sin(\\varphi(t))*Derivative(y(t), t) + 16*I_w*v(t)*cos(\\varphi(t))*Derivative(x(t), t) + 8*I_w*Derivative(x(t), t)**2 + 8*I_w*Derivative(y(t), t)**2 + d_w**2*(I_r*Derivative(\\theta(t), t)**2 + 2*I_w*c_{\\theta}*Derivative(\\theta(t), t)**2 + I_z*Derivative(\\varphi(t), t)**2 - 2*g*h_bc*m*cos(\\theta(t)) + h_bc**2*m*sin(\\theta(t))**2*Derivative(\\varphi(t), t)**2 + h_bc**2*m*Derivative(\\theta(t), t)**2 + 2*h_bc*m*v(t)*cos(\\theta(t))*Derivative(\\theta(t), t) + 2*h_bc*m*sin(\\varphi(t))*cos(\\theta(t))*Derivative(\\theta(t), t)*Derivative(y(t), t) + 2*h_bc*m*cos(\\theta(t))*cos(\\varphi(t))*Derivative(\\theta(t), t)*Derivative(x(t), t) + m*v(t)**2 + 2*m*v(t)*sin(\\varphi(t))*Derivative(y(t), t) + 2*m*v(t)*cos(\\varphi(t))*Derivative(x(t), t) + m*Derivative(x(t), t)**2 + m*Derivative(y(t), t)**2))/(2*d_w**2)"
      ],
      "text/latex": "$\\displaystyle \\frac{8 I_{w} e_{b}^{2} \\left(\\frac{d}{d t} \\varphi{\\left(t \\right)}\\right)^{2} + 8 I_{w} v^{2}{\\left(t \\right)} + 16 I_{w} v{\\left(t \\right)} \\sin{\\left(\\varphi{\\left(t \\right)} \\right)} \\frac{d}{d t} y{\\left(t \\right)} + 16 I_{w} v{\\left(t \\right)} \\cos{\\left(\\varphi{\\left(t \\right)} \\right)} \\frac{d}{d t} x{\\left(t \\right)} + 8 I_{w} \\left(\\frac{d}{d t} x{\\left(t \\right)}\\right)^{2} + 8 I_{w} \\left(\\frac{d}{d t} y{\\left(t \\right)}\\right)^{2} + d_{w}^{2} \\left(I_{r} \\left(\\frac{d}{d t} \\theta{\\left(t \\right)}\\right)^{2} + 2 I_{w} c_{\\theta} \\left(\\frac{d}{d t} \\theta{\\left(t \\right)}\\right)^{2} + I_{z} \\left(\\frac{d}{d t} \\varphi{\\left(t \\right)}\\right)^{2} - 2 g h_{bc} m \\cos{\\left(\\theta{\\left(t \\right)} \\right)} + h_{bc}^{2} m \\sin^{2}{\\left(\\theta{\\left(t \\right)} \\right)} \\left(\\frac{d}{d t} \\varphi{\\left(t \\right)}\\right)^{2} + h_{bc}^{2} m \\left(\\frac{d}{d t} \\theta{\\left(t \\right)}\\right)^{2} + 2 h_{bc} m v{\\left(t \\right)} \\cos{\\left(\\theta{\\left(t \\right)} \\right)} \\frac{d}{d t} \\theta{\\left(t \\right)} + 2 h_{bc} m \\sin{\\left(\\varphi{\\left(t \\right)} \\right)} \\cos{\\left(\\theta{\\left(t \\right)} \\right)} \\frac{d}{d t} \\theta{\\left(t \\right)} \\frac{d}{d t} y{\\left(t \\right)} + 2 h_{bc} m \\cos{\\left(\\theta{\\left(t \\right)} \\right)} \\cos{\\left(\\varphi{\\left(t \\right)} \\right)} \\frac{d}{d t} \\theta{\\left(t \\right)} \\frac{d}{d t} x{\\left(t \\right)} + m v^{2}{\\left(t \\right)} + 2 m v{\\left(t \\right)} \\sin{\\left(\\varphi{\\left(t \\right)} \\right)} \\frac{d}{d t} y{\\left(t \\right)} + 2 m v{\\left(t \\right)} \\cos{\\left(\\varphi{\\left(t \\right)} \\right)} \\frac{d}{d t} x{\\left(t \\right)} + m \\left(\\frac{d}{d t} x{\\left(t \\right)}\\right)^{2} + m \\left(\\frac{d}{d t} y{\\left(t \\right)}\\right)^{2}\\right)}{2 d_{w}^{2}}$"
     },
     "metadata": {},
     "output_type": "display_data"
    }
   ],
   "execution_count": 41
  },
  {
   "metadata": {},
   "cell_type": "markdown",
   "source": [
    "#### Compiled model\n",
    "\n",
    "There is no need to transform the model into a first-order representation, as the model is non-linear and we will have to solve a linear system for each time-step either way."
   ]
  },
  {
   "metadata": {
    "ExecuteTime": {
     "end_time": "2025-07-11T23:02:04.186813Z",
     "start_time": "2025-07-11T23:01:56.172307Z"
    }
   },
   "cell_type": "code",
   "source": [
    "model = (T_gradqd_dot - V_gradqd_dot) - (T_gradq - V_gradq) + D_gradqd - Q_gradq\n",
    "\n",
    "# Output\n",
    "model = sp.simplify(model)\n",
    "display(model)"
   ],
   "outputs": [
    {
     "data": {
      "text/plain": [
       "Matrix([\n",
       "[                                                                                                                                                          (-8*I_w*v(t)*sin(\\varphi(t))*Derivative(\\varphi(t), t) + 8*I_w*cos(\\varphi(t))*Derivative(v(t), t) + 8*I_w*Derivative(x(t), (t, 2)) + \\rho*b_d*d_w**2*(h_bc*cos(\\theta(t))*cos(\\varphi(t))*Derivative(\\theta(t), t) + v(t)*cos(\\varphi(t)) + Derivative(x(t), t))/2 + 8*b_a*(v(t)*cos(\\varphi(t)) + Derivative(x(t), t)) - d_w**2*m*(h_bc*sin(\\theta(t))*cos(\\varphi(t))*Derivative(\\theta(t), t)**2 + h_bc*sin(\\varphi(t))*cos(\\theta(t))*Derivative(\\theta(t), t)*Derivative(\\varphi(t), t) - h_bc*cos(\\theta(t))*cos(\\varphi(t))*Derivative(\\theta(t), (t, 2)) + v(t)*sin(\\varphi(t))*Derivative(\\varphi(t), t) - cos(\\varphi(t))*Derivative(v(t), t) - Derivative(x(t), (t, 2))))/d_w**2],\n",
       "[                                                                                                                                                          (8*I_w*v(t)*cos(\\varphi(t))*Derivative(\\varphi(t), t) + 8*I_w*sin(\\varphi(t))*Derivative(v(t), t) + 8*I_w*Derivative(y(t), (t, 2)) + \\rho*b_d*d_w**2*(h_bc*sin(\\varphi(t))*cos(\\theta(t))*Derivative(\\theta(t), t) + v(t)*sin(\\varphi(t)) + Derivative(y(t), t))/2 + 8*b_a*(v(t)*sin(\\varphi(t)) + Derivative(y(t), t)) + d_w**2*m*(-h_bc*sin(\\theta(t))*sin(\\varphi(t))*Derivative(\\theta(t), t)**2 + h_bc*sin(\\varphi(t))*cos(\\theta(t))*Derivative(\\theta(t), (t, 2)) + h_bc*cos(\\theta(t))*cos(\\varphi(t))*Derivative(\\theta(t), t)*Derivative(\\varphi(t), t) + v(t)*cos(\\varphi(t))*Derivative(\\varphi(t), t) + sin(\\varphi(t))*Derivative(v(t), t) + Derivative(y(t), (t, 2))))/d_w**2],\n",
       "[I_r*Derivative(\\theta(t), (t, 2)) + 2*I_w*c_{\\theta}*Derivative(\\theta(t), (t, 2)) + \\rho*b_d*h_bc**2*Derivative(\\theta(t), t)/2 + \\rho*b_d*h_bc*v(t)*cos(\\theta(t))/2 + \\rho*b_d*h_bc*sin(\\varphi(t))*cos(\\theta(t))*Derivative(y(t), t)/2 + \\rho*b_d*h_bc*cos(\\theta(t))*cos(\\varphi(t))*Derivative(x(t), t)/2 + 2*b_a*c_{\\theta}*Derivative(\\theta(t), t) - g*h_bc*m*sin(\\theta(t)) - h_bc**2*m*sin(2*\\theta(t))*Derivative(\\varphi(t), t)**2/2 + h_bc**2*m*Derivative(\\theta(t), (t, 2)) - h_bc*m*sin(\\varphi(t))*cos(\\theta(t))*Derivative(\\varphi(t), t)*Derivative(x(t), t) + h_bc*m*sin(\\varphi(t))*cos(\\theta(t))*Derivative(y(t), (t, 2)) + h_bc*m*cos(\\theta(t))*cos(\\varphi(t))*Derivative(\\varphi(t), t)*Derivative(y(t), t) + h_bc*m*cos(\\theta(t))*cos(\\varphi(t))*Derivative(x(t), (t, 2)) + h_bc*m*cos(\\theta(t))*Derivative(v(t), t)],\n",
       "[                          (8*I_w*e_b**2*Derivative(\\varphi(t), (t, 2)) + 8*I_w*v(t)*sin(\\varphi(t))*Derivative(x(t), t) - 8*I_w*v(t)*cos(\\varphi(t))*Derivative(y(t), t) + 8*b_a*e_b**2*Derivative(\\varphi(t), t) + d_w**2*m*(h_bc*sin(\\varphi(t))*cos(\\theta(t))*Derivative(\\theta(t), t)*Derivative(x(t), t) - h_bc*cos(\\theta(t))*cos(\\varphi(t))*Derivative(\\theta(t), t)*Derivative(y(t), t) + v(t)*sin(\\varphi(t))*Derivative(x(t), t) - v(t)*cos(\\varphi(t))*Derivative(y(t), t)) + d_w**2*(2*I_z*Derivative(\\varphi(t), (t, 2)) - \\rho*b_d*h_bc*(sin(\\varphi(t))*Derivative(x(t), t) - cos(\\varphi(t))*Derivative(y(t), t))*sin(\\theta(t)) + 2*h_bc**2*m*sin(2*\\theta(t))*Derivative(\\theta(t), t)*Derivative(\\varphi(t), t) - h_bc**2*m*cos(2*\\theta(t))*Derivative(\\varphi(t), (t, 2)) + h_bc**2*m*Derivative(\\varphi(t), (t, 2)))/2)/d_w**2]])"
      ],
      "text/latex": "$\\displaystyle \\left[\\begin{matrix}\\frac{- 8 I_{w} v{\\left(t \\right)} \\sin{\\left(\\varphi{\\left(t \\right)} \\right)} \\frac{d}{d t} \\varphi{\\left(t \\right)} + 8 I_{w} \\cos{\\left(\\varphi{\\left(t \\right)} \\right)} \\frac{d}{d t} v{\\left(t \\right)} + 8 I_{w} \\frac{d^{2}}{d t^{2}} x{\\left(t \\right)} + \\frac{\\rho b_{d} d_{w}^{2} \\left(h_{bc} \\cos{\\left(\\theta{\\left(t \\right)} \\right)} \\cos{\\left(\\varphi{\\left(t \\right)} \\right)} \\frac{d}{d t} \\theta{\\left(t \\right)} + v{\\left(t \\right)} \\cos{\\left(\\varphi{\\left(t \\right)} \\right)} + \\frac{d}{d t} x{\\left(t \\right)}\\right)}{2} + 8 b_{a} \\left(v{\\left(t \\right)} \\cos{\\left(\\varphi{\\left(t \\right)} \\right)} + \\frac{d}{d t} x{\\left(t \\right)}\\right) - d_{w}^{2} m \\left(h_{bc} \\sin{\\left(\\theta{\\left(t \\right)} \\right)} \\cos{\\left(\\varphi{\\left(t \\right)} \\right)} \\left(\\frac{d}{d t} \\theta{\\left(t \\right)}\\right)^{2} + h_{bc} \\sin{\\left(\\varphi{\\left(t \\right)} \\right)} \\cos{\\left(\\theta{\\left(t \\right)} \\right)} \\frac{d}{d t} \\theta{\\left(t \\right)} \\frac{d}{d t} \\varphi{\\left(t \\right)} - h_{bc} \\cos{\\left(\\theta{\\left(t \\right)} \\right)} \\cos{\\left(\\varphi{\\left(t \\right)} \\right)} \\frac{d^{2}}{d t^{2}} \\theta{\\left(t \\right)} + v{\\left(t \\right)} \\sin{\\left(\\varphi{\\left(t \\right)} \\right)} \\frac{d}{d t} \\varphi{\\left(t \\right)} - \\cos{\\left(\\varphi{\\left(t \\right)} \\right)} \\frac{d}{d t} v{\\left(t \\right)} - \\frac{d^{2}}{d t^{2}} x{\\left(t \\right)}\\right)}{d_{w}^{2}}\\\\\\frac{8 I_{w} v{\\left(t \\right)} \\cos{\\left(\\varphi{\\left(t \\right)} \\right)} \\frac{d}{d t} \\varphi{\\left(t \\right)} + 8 I_{w} \\sin{\\left(\\varphi{\\left(t \\right)} \\right)} \\frac{d}{d t} v{\\left(t \\right)} + 8 I_{w} \\frac{d^{2}}{d t^{2}} y{\\left(t \\right)} + \\frac{\\rho b_{d} d_{w}^{2} \\left(h_{bc} \\sin{\\left(\\varphi{\\left(t \\right)} \\right)} \\cos{\\left(\\theta{\\left(t \\right)} \\right)} \\frac{d}{d t} \\theta{\\left(t \\right)} + v{\\left(t \\right)} \\sin{\\left(\\varphi{\\left(t \\right)} \\right)} + \\frac{d}{d t} y{\\left(t \\right)}\\right)}{2} + 8 b_{a} \\left(v{\\left(t \\right)} \\sin{\\left(\\varphi{\\left(t \\right)} \\right)} + \\frac{d}{d t} y{\\left(t \\right)}\\right) + d_{w}^{2} m \\left(- h_{bc} \\sin{\\left(\\theta{\\left(t \\right)} \\right)} \\sin{\\left(\\varphi{\\left(t \\right)} \\right)} \\left(\\frac{d}{d t} \\theta{\\left(t \\right)}\\right)^{2} + h_{bc} \\sin{\\left(\\varphi{\\left(t \\right)} \\right)} \\cos{\\left(\\theta{\\left(t \\right)} \\right)} \\frac{d^{2}}{d t^{2}} \\theta{\\left(t \\right)} + h_{bc} \\cos{\\left(\\theta{\\left(t \\right)} \\right)} \\cos{\\left(\\varphi{\\left(t \\right)} \\right)} \\frac{d}{d t} \\theta{\\left(t \\right)} \\frac{d}{d t} \\varphi{\\left(t \\right)} + v{\\left(t \\right)} \\cos{\\left(\\varphi{\\left(t \\right)} \\right)} \\frac{d}{d t} \\varphi{\\left(t \\right)} + \\sin{\\left(\\varphi{\\left(t \\right)} \\right)} \\frac{d}{d t} v{\\left(t \\right)} + \\frac{d^{2}}{d t^{2}} y{\\left(t \\right)}\\right)}{d_{w}^{2}}\\\\I_{r} \\frac{d^{2}}{d t^{2}} \\theta{\\left(t \\right)} + 2 I_{w} c_{\\theta} \\frac{d^{2}}{d t^{2}} \\theta{\\left(t \\right)} + \\frac{\\rho b_{d} h_{bc}^{2} \\frac{d}{d t} \\theta{\\left(t \\right)}}{2} + \\frac{\\rho b_{d} h_{bc} v{\\left(t \\right)} \\cos{\\left(\\theta{\\left(t \\right)} \\right)}}{2} + \\frac{\\rho b_{d} h_{bc} \\sin{\\left(\\varphi{\\left(t \\right)} \\right)} \\cos{\\left(\\theta{\\left(t \\right)} \\right)} \\frac{d}{d t} y{\\left(t \\right)}}{2} + \\frac{\\rho b_{d} h_{bc} \\cos{\\left(\\theta{\\left(t \\right)} \\right)} \\cos{\\left(\\varphi{\\left(t \\right)} \\right)} \\frac{d}{d t} x{\\left(t \\right)}}{2} + 2 b_{a} c_{\\theta} \\frac{d}{d t} \\theta{\\left(t \\right)} - g h_{bc} m \\sin{\\left(\\theta{\\left(t \\right)} \\right)} - \\frac{h_{bc}^{2} m \\sin{\\left(2 \\theta{\\left(t \\right)} \\right)} \\left(\\frac{d}{d t} \\varphi{\\left(t \\right)}\\right)^{2}}{2} + h_{bc}^{2} m \\frac{d^{2}}{d t^{2}} \\theta{\\left(t \\right)} - h_{bc} m \\sin{\\left(\\varphi{\\left(t \\right)} \\right)} \\cos{\\left(\\theta{\\left(t \\right)} \\right)} \\frac{d}{d t} \\varphi{\\left(t \\right)} \\frac{d}{d t} x{\\left(t \\right)} + h_{bc} m \\sin{\\left(\\varphi{\\left(t \\right)} \\right)} \\cos{\\left(\\theta{\\left(t \\right)} \\right)} \\frac{d^{2}}{d t^{2}} y{\\left(t \\right)} + h_{bc} m \\cos{\\left(\\theta{\\left(t \\right)} \\right)} \\cos{\\left(\\varphi{\\left(t \\right)} \\right)} \\frac{d}{d t} \\varphi{\\left(t \\right)} \\frac{d}{d t} y{\\left(t \\right)} + h_{bc} m \\cos{\\left(\\theta{\\left(t \\right)} \\right)} \\cos{\\left(\\varphi{\\left(t \\right)} \\right)} \\frac{d^{2}}{d t^{2}} x{\\left(t \\right)} + h_{bc} m \\cos{\\left(\\theta{\\left(t \\right)} \\right)} \\frac{d}{d t} v{\\left(t \\right)}\\\\\\frac{8 I_{w} e_{b}^{2} \\frac{d^{2}}{d t^{2}} \\varphi{\\left(t \\right)} + 8 I_{w} v{\\left(t \\right)} \\sin{\\left(\\varphi{\\left(t \\right)} \\right)} \\frac{d}{d t} x{\\left(t \\right)} - 8 I_{w} v{\\left(t \\right)} \\cos{\\left(\\varphi{\\left(t \\right)} \\right)} \\frac{d}{d t} y{\\left(t \\right)} + 8 b_{a} e_{b}^{2} \\frac{d}{d t} \\varphi{\\left(t \\right)} + d_{w}^{2} m \\left(h_{bc} \\sin{\\left(\\varphi{\\left(t \\right)} \\right)} \\cos{\\left(\\theta{\\left(t \\right)} \\right)} \\frac{d}{d t} \\theta{\\left(t \\right)} \\frac{d}{d t} x{\\left(t \\right)} - h_{bc} \\cos{\\left(\\theta{\\left(t \\right)} \\right)} \\cos{\\left(\\varphi{\\left(t \\right)} \\right)} \\frac{d}{d t} \\theta{\\left(t \\right)} \\frac{d}{d t} y{\\left(t \\right)} + v{\\left(t \\right)} \\sin{\\left(\\varphi{\\left(t \\right)} \\right)} \\frac{d}{d t} x{\\left(t \\right)} - v{\\left(t \\right)} \\cos{\\left(\\varphi{\\left(t \\right)} \\right)} \\frac{d}{d t} y{\\left(t \\right)}\\right) + \\frac{d_{w}^{2} \\left(2 I_{z} \\frac{d^{2}}{d t^{2}} \\varphi{\\left(t \\right)} - \\rho b_{d} h_{bc} \\left(\\sin{\\left(\\varphi{\\left(t \\right)} \\right)} \\frac{d}{d t} x{\\left(t \\right)} - \\cos{\\left(\\varphi{\\left(t \\right)} \\right)} \\frac{d}{d t} y{\\left(t \\right)}\\right) \\sin{\\left(\\theta{\\left(t \\right)} \\right)} + 2 h_{bc}^{2} m \\sin{\\left(2 \\theta{\\left(t \\right)} \\right)} \\frac{d}{d t} \\theta{\\left(t \\right)} \\frac{d}{d t} \\varphi{\\left(t \\right)} - h_{bc}^{2} m \\cos{\\left(2 \\theta{\\left(t \\right)} \\right)} \\frac{d^{2}}{d t^{2}} \\varphi{\\left(t \\right)} + h_{bc}^{2} m \\frac{d^{2}}{d t^{2}} \\varphi{\\left(t \\right)}\\right)}{2}}{d_{w}^{2}}\\end{matrix}\\right]$"
     },
     "metadata": {},
     "output_type": "display_data"
    }
   ],
   "execution_count": 42
  },
  {
   "metadata": {
    "ExecuteTime": {
     "end_time": "2025-07-11T23:02:06.328777Z",
     "start_time": "2025-07-11T23:02:04.243829Z"
    }
   },
   "cell_type": "code",
   "source": [
    "# Separate model into `M * Xi_ddot + H = Mii * Xi_ddot + Bi2 * Xi_dot**2 + Bij * Xi_dot * Xj_dot + Bi * Xi_dot + C + U` form\n",
    "dim = len(model)\n",
    "model_expand = sp.zeros(dim, 1)\n",
    "for i, eq in enumerate(model):\n",
    "    model_expand[i] = sp.expand(eq)\n",
    "\n",
    "Xi_ddot = sp.Matrix([x_ddot, y_ddot, theta_ddot, phi_ddot])\n",
    "Xi_dot = sp.Matrix([x_dot, y_dot, theta_dot, phi_dot])\n",
    "\n",
    "Mii = sp.zeros(dim, dim)\n",
    "Bi2 = sp.zeros(dim, dim)\n",
    "Bij = sp.zeros(dim, dim)\n",
    "Bi = sp.zeros(dim, dim)\n",
    "C = sp.zeros(dim, 1)\n",
    "U = sp.zeros(dim, 1)\n",
    "\n",
    "# Collect coefficients for each second derivative term\n",
    "for i, eq in enumerate(model_expand):\n",
    "    subs_list = []\n",
    "\n",
    "    # Isolate second-order and squared first-order derivatives\n",
    "    for j, xi_dot in enumerate(Xi_dot):\n",
    "        Mii[i, j] = eq.coeff(Xi_ddot[j], 1)\n",
    "        subs_list += [(Xi_ddot[j], 0)]\n",
    "\n",
    "        Bi2[i, j] = eq.coeff(xi_dot, 2)\n",
    "        subs_list += [(xi_dot ** 2, 0)]\n",
    "\n",
    "    terms = sp.Add.make_args(eq)\n",
    "    for term in terms:\n",
    "        # Isolate second-order distinct derivatives\n",
    "        all_dot = [term.has(d) for d in Xi_dot]\n",
    "        idx_dot = [i for i in range(len(all_dot)) if all_dot[i] == True]\n",
    "        xi_dot = [d for d in all_dot if d == True]\n",
    "        if len(idx_dot) == 2:\n",
    "            for j in idx_dot:\n",
    "                Bij[i, j] += term.coeff(Xi_dot[j], 1) / len(idx_dot)\n",
    "                subs_list += [(term.coeff(Xi_dot[j], 1), 0)]\n",
    "\n",
    "        # Isolate first-order linear derivatives\n",
    "        for j, xi_dot in enumerate(Xi_dot):\n",
    "            if term.count(xi_dot) == 1:\n",
    "                other_derivs = [x for x in Xi_dot if x != xi_dot]\n",
    "                if not any(term.has(od) for od in other_derivs):\n",
    "                    Bi[i, j] += term.coeff(xi_dot, 1)\n",
    "                    subs_list += [(term.coeff(xi_dot, 1), 0)]\n",
    "\n",
    "        # Isolate zero-order derivatives\n",
    "        if (sum(term.count(xi_ddot) for xi_ddot in Xi_ddot) == 0) and (sum(term.count(xi_dot) for xi_dot in Xi_dot) == 0):\n",
    "            C[i] += term\n",
    "            subs_list += [(term, 0)]\n",
    "\n",
    "    model_expand[i] = eq.subs(subs_list)\n",
    "    model_expand[i] = sp.expand(model_expand[i])\n",
    "\n",
    "# Output\n",
    "Mii = sp.simplify(Mii)\n",
    "Bi2 = sp.simplify(Bi2)\n",
    "Bij = sp.simplify(Bij)\n",
    "Bi = sp.simplify(Bi)\n",
    "C = sp.simplify(C)\n",
    "U = sp.simplify(model - (Mii * Xi_ddot + Bi2 * sp.Matrix([e ** 2 for e in Xi_dot]) + Bij * Xi_dot + Bi * Xi_dot + C))\n",
    "\n",
    "display(Mii)\n",
    "display(Bi2)\n",
    "display(Bij)\n",
    "display(Bi)\n",
    "display(C)\n",
    "display(U)\n",
    "\n",
    "# Verification\n",
    "model_is_simplified = sp.simplify(\n",
    "    (Mii * Xi_ddot + Bi2 * sp.Matrix([xi_dot ** 2 for xi_dot in Xi_dot]) + Bij * Xi_dot + Bi * Xi_dot + C + U) - model) == sp.Matrix(dim * [0])\n",
    "print(model_is_simplified)"
   ],
   "outputs": [
    {
     "data": {
      "text/plain": [
       "Matrix([\n",
       "[                     8*I_w/d_w**2 + m,                                     0, h_bc*m*cos(\\theta(t))*cos(\\varphi(t)),                                                       0],\n",
       "[                                    0,                      8*I_w/d_w**2 + m, h_bc*m*sin(\\varphi(t))*cos(\\theta(t)),                                                       0],\n",
       "[h_bc*m*cos(\\theta(t))*cos(\\varphi(t)), h_bc*m*sin(\\varphi(t))*cos(\\theta(t)),    I_r + 2*I_w*c_{\\theta} + h_bc**2*m,                                                       0],\n",
       "[                                    0,                                     0,                                     0, 8*I_w*e_b**2/d_w**2 + I_z + h_bc**2*m*sin(\\theta(t))**2]])"
      ],
      "text/latex": "$\\displaystyle \\left[\\begin{matrix}\\frac{8 I_{w}}{d_{w}^{2}} + m & 0 & h_{bc} m \\cos{\\left(\\theta{\\left(t \\right)} \\right)} \\cos{\\left(\\varphi{\\left(t \\right)} \\right)} & 0\\\\0 & \\frac{8 I_{w}}{d_{w}^{2}} + m & h_{bc} m \\sin{\\left(\\varphi{\\left(t \\right)} \\right)} \\cos{\\left(\\theta{\\left(t \\right)} \\right)} & 0\\\\h_{bc} m \\cos{\\left(\\theta{\\left(t \\right)} \\right)} \\cos{\\left(\\varphi{\\left(t \\right)} \\right)} & h_{bc} m \\sin{\\left(\\varphi{\\left(t \\right)} \\right)} \\cos{\\left(\\theta{\\left(t \\right)} \\right)} & I_{r} + 2 I_{w} c_{\\theta} + h_{bc}^{2} m & 0\\\\0 & 0 & 0 & \\frac{8 I_{w} e_{b}^{2}}{d_{w}^{2}} + I_{z} + h_{bc}^{2} m \\sin^{2}{\\left(\\theta{\\left(t \\right)} \\right)}\\end{matrix}\\right]$"
     },
     "metadata": {},
     "output_type": "display_data"
    },
    {
     "data": {
      "text/plain": [
       "Matrix([\n",
       "[0, 0, -h_bc*m*sin(\\theta(t))*cos(\\varphi(t)),                             0],\n",
       "[0, 0, -h_bc*m*sin(\\theta(t))*sin(\\varphi(t)),                             0],\n",
       "[0, 0,                                      0, -h_bc**2*m*sin(2*\\theta(t))/2],\n",
       "[0, 0,                                      0,                             0]])"
      ],
      "text/latex": "$\\displaystyle \\left[\\begin{matrix}0 & 0 & - h_{bc} m \\sin{\\left(\\theta{\\left(t \\right)} \\right)} \\cos{\\left(\\varphi{\\left(t \\right)} \\right)} & 0\\\\0 & 0 & - h_{bc} m \\sin{\\left(\\theta{\\left(t \\right)} \\right)} \\sin{\\left(\\varphi{\\left(t \\right)} \\right)} & 0\\\\0 & 0 & 0 & - \\frac{h_{bc}^{2} m \\sin{\\left(2 \\theta{\\left(t \\right)} \\right)}}{2}\\\\0 & 0 & 0 & 0\\end{matrix}\\right]$"
     },
     "metadata": {},
     "output_type": "display_data"
    },
    {
     "data": {
      "text/plain": [
       "Matrix([\n",
       "[                                                                 0,                                                                 0,                                                                                    -h_bc*m*sin(\\varphi(t))*cos(\\theta(t))*Derivative(\\varphi(t), t)/2,                                    -h_bc*m*sin(\\varphi(t))*cos(\\theta(t))*Derivative(\\theta(t), t)/2],\n",
       "[                                                                 0,                                                                 0,                                                                                     h_bc*m*cos(\\theta(t))*cos(\\varphi(t))*Derivative(\\varphi(t), t)/2,                                     h_bc*m*cos(\\theta(t))*cos(\\varphi(t))*Derivative(\\theta(t), t)/2],\n",
       "[-h_bc*m*sin(\\varphi(t))*cos(\\theta(t))*Derivative(\\varphi(t), t)/2, h_bc*m*cos(\\theta(t))*cos(\\varphi(t))*Derivative(\\varphi(t), t)/2,                                                                                                                                                     0, h_bc*m*(-sin(\\varphi(t))*Derivative(x(t), t) + cos(\\varphi(t))*Derivative(y(t), t))*cos(\\theta(t))/2],\n",
       "[  h_bc*m*sin(\\varphi(t))*cos(\\theta(t))*Derivative(\\theta(t), t)/2, -h_bc*m*cos(\\theta(t))*cos(\\varphi(t))*Derivative(\\theta(t), t)/2, h_bc*m*(2*h_bc*sin(\\theta(t))*Derivative(\\varphi(t), t) + sin(\\varphi(t))*Derivative(x(t), t) - cos(\\varphi(t))*Derivative(y(t), t))*cos(\\theta(t))/2,                                                h_bc**2*m*sin(2*\\theta(t))*Derivative(\\theta(t), t)/2]])"
      ],
      "text/latex": "$\\displaystyle \\left[\\begin{matrix}0 & 0 & - \\frac{h_{bc} m \\sin{\\left(\\varphi{\\left(t \\right)} \\right)} \\cos{\\left(\\theta{\\left(t \\right)} \\right)} \\frac{d}{d t} \\varphi{\\left(t \\right)}}{2} & - \\frac{h_{bc} m \\sin{\\left(\\varphi{\\left(t \\right)} \\right)} \\cos{\\left(\\theta{\\left(t \\right)} \\right)} \\frac{d}{d t} \\theta{\\left(t \\right)}}{2}\\\\0 & 0 & \\frac{h_{bc} m \\cos{\\left(\\theta{\\left(t \\right)} \\right)} \\cos{\\left(\\varphi{\\left(t \\right)} \\right)} \\frac{d}{d t} \\varphi{\\left(t \\right)}}{2} & \\frac{h_{bc} m \\cos{\\left(\\theta{\\left(t \\right)} \\right)} \\cos{\\left(\\varphi{\\left(t \\right)} \\right)} \\frac{d}{d t} \\theta{\\left(t \\right)}}{2}\\\\- \\frac{h_{bc} m \\sin{\\left(\\varphi{\\left(t \\right)} \\right)} \\cos{\\left(\\theta{\\left(t \\right)} \\right)} \\frac{d}{d t} \\varphi{\\left(t \\right)}}{2} & \\frac{h_{bc} m \\cos{\\left(\\theta{\\left(t \\right)} \\right)} \\cos{\\left(\\varphi{\\left(t \\right)} \\right)} \\frac{d}{d t} \\varphi{\\left(t \\right)}}{2} & 0 & \\frac{h_{bc} m \\left(- \\sin{\\left(\\varphi{\\left(t \\right)} \\right)} \\frac{d}{d t} x{\\left(t \\right)} + \\cos{\\left(\\varphi{\\left(t \\right)} \\right)} \\frac{d}{d t} y{\\left(t \\right)}\\right) \\cos{\\left(\\theta{\\left(t \\right)} \\right)}}{2}\\\\\\frac{h_{bc} m \\sin{\\left(\\varphi{\\left(t \\right)} \\right)} \\cos{\\left(\\theta{\\left(t \\right)} \\right)} \\frac{d}{d t} \\theta{\\left(t \\right)}}{2} & - \\frac{h_{bc} m \\cos{\\left(\\theta{\\left(t \\right)} \\right)} \\cos{\\left(\\varphi{\\left(t \\right)} \\right)} \\frac{d}{d t} \\theta{\\left(t \\right)}}{2} & \\frac{h_{bc} m \\left(2 h_{bc} \\sin{\\left(\\theta{\\left(t \\right)} \\right)} \\frac{d}{d t} \\varphi{\\left(t \\right)} + \\sin{\\left(\\varphi{\\left(t \\right)} \\right)} \\frac{d}{d t} x{\\left(t \\right)} - \\cos{\\left(\\varphi{\\left(t \\right)} \\right)} \\frac{d}{d t} y{\\left(t \\right)}\\right) \\cos{\\left(\\theta{\\left(t \\right)} \\right)}}{2} & \\frac{h_{bc}^{2} m \\sin{\\left(2 \\theta{\\left(t \\right)} \\right)} \\frac{d}{d t} \\theta{\\left(t \\right)}}{2}\\end{matrix}\\right]$"
     },
     "metadata": {},
     "output_type": "display_data"
    },
    {
     "data": {
      "text/plain": [
       "Matrix([\n",
       "[                                                                   \\rho*b_d/2 + 8*b_a/d_w**2,                                                                                            0, \\rho*b_d*h_bc*cos(\\theta(t))*cos(\\varphi(t))/2, (-8*I_w - d_w**2*m)*v(t)*sin(\\varphi(t))/d_w**2],\n",
       "[                                                                                           0,                                                                    \\rho*b_d/2 + 8*b_a/d_w**2, \\rho*b_d*h_bc*sin(\\varphi(t))*cos(\\theta(t))/2,  (8*I_w + d_w**2*m)*v(t)*cos(\\varphi(t))/d_w**2],\n",
       "[                                              \\rho*b_d*h_bc*cos(\\theta(t))*cos(\\varphi(t))/2,                                               \\rho*b_d*h_bc*sin(\\varphi(t))*cos(\\theta(t))/2,          \\rho*b_d*h_bc**2/2 + 2*b_a*c_{\\theta},                                               0],\n",
       "[(16*I_w*v(t) + d_w**2*(-\\rho*b_d*h_bc*sin(\\theta(t)) + 2*m*v(t)))*sin(\\varphi(t))/(2*d_w**2), (-16*I_w*v(t) + d_w**2*(\\rho*b_d*h_bc*sin(\\theta(t)) - 2*m*v(t)))*cos(\\varphi(t))/(2*d_w**2),                                              0,                             8*b_a*e_b**2/d_w**2]])"
      ],
      "text/latex": "$\\displaystyle \\left[\\begin{matrix}\\frac{\\rho b_{d}}{2} + \\frac{8 b_{a}}{d_{w}^{2}} & 0 & \\frac{\\rho b_{d} h_{bc} \\cos{\\left(\\theta{\\left(t \\right)} \\right)} \\cos{\\left(\\varphi{\\left(t \\right)} \\right)}}{2} & \\frac{\\left(- 8 I_{w} - d_{w}^{2} m\\right) v{\\left(t \\right)} \\sin{\\left(\\varphi{\\left(t \\right)} \\right)}}{d_{w}^{2}}\\\\0 & \\frac{\\rho b_{d}}{2} + \\frac{8 b_{a}}{d_{w}^{2}} & \\frac{\\rho b_{d} h_{bc} \\sin{\\left(\\varphi{\\left(t \\right)} \\right)} \\cos{\\left(\\theta{\\left(t \\right)} \\right)}}{2} & \\frac{\\left(8 I_{w} + d_{w}^{2} m\\right) v{\\left(t \\right)} \\cos{\\left(\\varphi{\\left(t \\right)} \\right)}}{d_{w}^{2}}\\\\\\frac{\\rho b_{d} h_{bc} \\cos{\\left(\\theta{\\left(t \\right)} \\right)} \\cos{\\left(\\varphi{\\left(t \\right)} \\right)}}{2} & \\frac{\\rho b_{d} h_{bc} \\sin{\\left(\\varphi{\\left(t \\right)} \\right)} \\cos{\\left(\\theta{\\left(t \\right)} \\right)}}{2} & \\frac{\\rho b_{d} h_{bc}^{2}}{2} + 2 b_{a} c_{\\theta} & 0\\\\\\frac{\\left(16 I_{w} v{\\left(t \\right)} + d_{w}^{2} \\left(- \\rho b_{d} h_{bc} \\sin{\\left(\\theta{\\left(t \\right)} \\right)} + 2 m v{\\left(t \\right)}\\right)\\right) \\sin{\\left(\\varphi{\\left(t \\right)} \\right)}}{2 d_{w}^{2}} & \\frac{\\left(- 16 I_{w} v{\\left(t \\right)} + d_{w}^{2} \\left(\\rho b_{d} h_{bc} \\sin{\\left(\\theta{\\left(t \\right)} \\right)} - 2 m v{\\left(t \\right)}\\right)\\right) \\cos{\\left(\\varphi{\\left(t \\right)} \\right)}}{2 d_{w}^{2}} & 0 & \\frac{8 b_{a} e_{b}^{2}}{d_{w}^{2}}\\end{matrix}\\right]$"
     },
     "metadata": {},
     "output_type": "display_data"
    },
    {
     "data": {
      "text/plain": [
       "Matrix([\n",
       "[(16*I_w*Derivative(v(t), t) + 16*b_a*v(t) + d_w**2*(\\rho*b_d*v(t) + 2*m*Derivative(v(t), t)))*cos(\\varphi(t))/(2*d_w**2)],\n",
       "[(16*I_w*Derivative(v(t), t) + 16*b_a*v(t) + d_w**2*(\\rho*b_d*v(t) + 2*m*Derivative(v(t), t)))*sin(\\varphi(t))/(2*d_w**2)],\n",
       "[                   h_bc*(\\rho*b_d*v(t)*cos(\\theta(t)) - 2*g*m*sin(\\theta(t)) + 2*m*cos(\\theta(t))*Derivative(v(t), t))/2],\n",
       "[                                                                                                                       0]])"
      ],
      "text/latex": "$\\displaystyle \\left[\\begin{matrix}\\frac{\\left(16 I_{w} \\frac{d}{d t} v{\\left(t \\right)} + 16 b_{a} v{\\left(t \\right)} + d_{w}^{2} \\left(\\rho b_{d} v{\\left(t \\right)} + 2 m \\frac{d}{d t} v{\\left(t \\right)}\\right)\\right) \\cos{\\left(\\varphi{\\left(t \\right)} \\right)}}{2 d_{w}^{2}}\\\\\\frac{\\left(16 I_{w} \\frac{d}{d t} v{\\left(t \\right)} + 16 b_{a} v{\\left(t \\right)} + d_{w}^{2} \\left(\\rho b_{d} v{\\left(t \\right)} + 2 m \\frac{d}{d t} v{\\left(t \\right)}\\right)\\right) \\sin{\\left(\\varphi{\\left(t \\right)} \\right)}}{2 d_{w}^{2}}\\\\\\frac{h_{bc} \\left(\\rho b_{d} v{\\left(t \\right)} \\cos{\\left(\\theta{\\left(t \\right)} \\right)} - 2 g m \\sin{\\left(\\theta{\\left(t \\right)} \\right)} + 2 m \\cos{\\left(\\theta{\\left(t \\right)} \\right)} \\frac{d}{d t} v{\\left(t \\right)}\\right)}{2}\\\\0\\end{matrix}\\right]$"
     },
     "metadata": {},
     "output_type": "display_data"
    },
    {
     "data": {
      "text/plain": [
       "Matrix([\n",
       "[0],\n",
       "[0],\n",
       "[0],\n",
       "[0]])"
      ],
      "text/latex": "$\\displaystyle \\left[\\begin{matrix}0\\\\0\\\\0\\\\0\\end{matrix}\\right]$"
     },
     "metadata": {},
     "output_type": "display_data"
    },
    {
     "name": "stdout",
     "output_type": "stream",
     "text": [
      "True\n"
     ]
    }
   ],
   "execution_count": 43
  },
  {
   "metadata": {},
   "cell_type": "markdown",
   "source": "## Project"
  },
  {
   "metadata": {},
   "cell_type": "markdown",
   "source": "### Applied dynamic model"
  },
  {
   "metadata": {
    "ExecuteTime": {
     "end_time": "2025-07-11T23:02:06.495647Z",
     "start_time": "2025-07-11T23:02:06.493340Z"
    }
   },
   "cell_type": "code",
   "source": [
    "# TODO: Fix and solve for v\n",
    "\n",
    "params_sim = {\n",
    "    hbc: 8.0e-2,  # height of body center\n",
    "    hb: 20.0e-2,  # height of body\n",
    "    eb: 8.0e-2,  # body width\n",
    "    dw: 14.5e-2,  # wheel diameter\n",
    "    m: 0.700,  # mass in kg\n",
    "    Ir: 0.005,  # moment of inertia\n",
    "    Iz: 0.002,  # moment of inertia\n",
    "    Iw: 0.0005,  # moment of inertia\n",
    "    ba: 0.01,  # damping coefficient\n",
    "    bd: 0.002 * 0.01,  # drag coefficient\n",
    "    ct: 1,  # theta_dot correction factor, ideally sp.tanh(theta_dot - (omega_l + omega_r))\n",
    "    rho: 1.225,  # air density\n",
    "    g: 9.81,  # gravity in m/s^2\n",
    "    v: 0,  # normal velocity of the cart's origin, free variable\n",
    "}"
   ],
   "outputs": [],
   "execution_count": 45
  },
  {
   "metadata": {
    "ExecuteTime": {
     "end_time": "2025-07-11T23:02:08.508908Z",
     "start_time": "2025-07-11T23:02:06.574244Z"
    }
   },
   "cell_type": "code",
   "source": [
    "Xo_sim = Xo.subs(params_sim, simultaneous=True)\n",
    "Xo_sim = sp.simplify(Xo_sim)\n",
    "\n",
    "Xo_dot_sim = Xo_dot.subs(params_sim, simultaneous=True)\n",
    "Xo_dot_sim = sp.simplify(Xo_dot_sim)\n",
    "\n",
    "Xc_sim = Xc.subs(params_sim, simultaneous=True)\n",
    "Xc_sim = sp.simplify(Xc_sim)\n",
    "\n",
    "Xc_dot_sim = Xc_dot.subs(params_sim, simultaneous=True)\n",
    "Xc_dot_sim = sp.simplify(Xc_dot_sim)\n",
    "\n",
    "M_sim = Mii.subs(params_sim, simultaneous=True)\n",
    "M_sim = sp.simplify(M_sim)\n",
    "M_sim_fn = sp.lambdify(args, M_sim)\n",
    "\n",
    "H = Bi2 * sp.Matrix([e ** 2 for e in Xi_dot]) + Bij * Xi_dot + Bi * Xi_dot + C + U\n",
    "H_sim = H.subs(params_sim, simultaneous=True)\n",
    "H_sim = sp.simplify(H_sim)\n",
    "H_sim_fn = sp.lambdify(args, H_sim)\n",
    "\n",
    "Cons_sim = Cons.subs(params_sim, simultaneous=True)\n",
    "Cons_sim_fn = sp.lambdify(args, Cons_sim)\n",
    "\n",
    "Cons_gradq_sim = Cons_gradq.subs(params_sim, simultaneous=True)\n",
    "Cons_gradq_sim_fn = sp.lambdify(args, Cons_gradq_sim)\n",
    "\n",
    "Cons_dot_gradqd_sim = Cons_dot_gradqd.subs(params_sim, simultaneous=True)\n",
    "Cons_dot_gradqd_sim_fn = sp.lambdify(args, Cons_dot_gradqd_sim)\n",
    "\n",
    "# Output\n",
    "model_sim = sp.simplify(M_sim * Xi_ddot + H_sim)\n",
    "display(model_sim)"
   ],
   "outputs": [
    {
     "data": {
      "text/plain": [
       "Matrix([\n",
       "[                                                                                                                                                                                                            -0.056*sin(\\theta(t))*cos(\\varphi(t))*Derivative(\\theta(t), t)**2 - 0.056*sin(\\varphi(t))*cos(\\theta(t))*Derivative(\\theta(t), t)*Derivative(\\varphi(t), t) + 9.8e-7*cos(\\theta(t))*cos(\\varphi(t))*Derivative(\\theta(t), t) + 0.056*cos(\\theta(t))*cos(\\varphi(t))*Derivative(\\theta(t), (t, 2)) + 3.80500630469679*Derivative(x(t), t) + 0.890249702734839*Derivative(x(t), (t, 2))],\n",
       "[                                                                                                                                                                                                            -0.056*sin(\\theta(t))*sin(\\varphi(t))*Derivative(\\theta(t), t)**2 + 9.8e-7*sin(\\varphi(t))*cos(\\theta(t))*Derivative(\\theta(t), t) + 0.056*sin(\\varphi(t))*cos(\\theta(t))*Derivative(\\theta(t), (t, 2)) + 0.056*cos(\\theta(t))*cos(\\varphi(t))*Derivative(\\theta(t), t)*Derivative(\\varphi(t), t) + 3.80500630469679*Derivative(y(t), t) + 0.890249702734839*Derivative(y(t), (t, 2))],\n",
       "[-0.54936*sin(\\theta(t)) - 0.00224*sin(2*\\theta(t))*Derivative(\\varphi(t), t)**2 - 0.056*sin(\\varphi(t))*cos(\\theta(t))*Derivative(\\varphi(t), t)*Derivative(x(t), t) + 9.8e-7*sin(\\varphi(t))*cos(\\theta(t))*Derivative(y(t), t) + 0.056*sin(\\varphi(t))*cos(\\theta(t))*Derivative(y(t), (t, 2)) + 0.056*cos(\\theta(t))*cos(\\varphi(t))*Derivative(\\varphi(t), t)*Derivative(y(t), t) + 9.8e-7*cos(\\theta(t))*cos(\\varphi(t))*Derivative(x(t), t) + 0.056*cos(\\theta(t))*cos(\\varphi(t))*Derivative(x(t), (t, 2)) + 0.0200000784*Derivative(\\theta(t), t) + 0.01048*Derivative(\\theta(t), (t, 2))],\n",
       "[                                                                                    (0.00448*sin(\\theta(t))**2 + 0.00321759809750297)*Derivative(\\varphi(t), (t, 2)) - 9.8e-7*sin(\\theta(t))*sin(\\varphi(t))*Derivative(x(t), t) + 9.8e-7*sin(\\theta(t))*cos(\\varphi(t))*Derivative(y(t), t) + 0.00448*sin(2*\\theta(t))*Derivative(\\theta(t), t)*Derivative(\\varphi(t), t) + 0.056*sin(\\varphi(t))*cos(\\theta(t))*Derivative(\\theta(t), t)*Derivative(x(t), t) - 0.056*cos(\\theta(t))*cos(\\varphi(t))*Derivative(\\theta(t), t)*Derivative(y(t), t) + 0.0243519619500595*Derivative(\\varphi(t), t)]])"
      ],
      "text/latex": "$\\displaystyle \\left[\\begin{matrix}- 0.056 \\sin{\\left(\\theta{\\left(t \\right)} \\right)} \\cos{\\left(\\varphi{\\left(t \\right)} \\right)} \\left(\\frac{d}{d t} \\theta{\\left(t \\right)}\\right)^{2} - 0.056 \\sin{\\left(\\varphi{\\left(t \\right)} \\right)} \\cos{\\left(\\theta{\\left(t \\right)} \\right)} \\frac{d}{d t} \\theta{\\left(t \\right)} \\frac{d}{d t} \\varphi{\\left(t \\right)} + 9.8 \\cdot 10^{-7} \\cos{\\left(\\theta{\\left(t \\right)} \\right)} \\cos{\\left(\\varphi{\\left(t \\right)} \\right)} \\frac{d}{d t} \\theta{\\left(t \\right)} + 0.056 \\cos{\\left(\\theta{\\left(t \\right)} \\right)} \\cos{\\left(\\varphi{\\left(t \\right)} \\right)} \\frac{d^{2}}{d t^{2}} \\theta{\\left(t \\right)} + 3.80500630469679 \\frac{d}{d t} x{\\left(t \\right)} + 0.890249702734839 \\frac{d^{2}}{d t^{2}} x{\\left(t \\right)}\\\\- 0.056 \\sin{\\left(\\theta{\\left(t \\right)} \\right)} \\sin{\\left(\\varphi{\\left(t \\right)} \\right)} \\left(\\frac{d}{d t} \\theta{\\left(t \\right)}\\right)^{2} + 9.8 \\cdot 10^{-7} \\sin{\\left(\\varphi{\\left(t \\right)} \\right)} \\cos{\\left(\\theta{\\left(t \\right)} \\right)} \\frac{d}{d t} \\theta{\\left(t \\right)} + 0.056 \\sin{\\left(\\varphi{\\left(t \\right)} \\right)} \\cos{\\left(\\theta{\\left(t \\right)} \\right)} \\frac{d^{2}}{d t^{2}} \\theta{\\left(t \\right)} + 0.056 \\cos{\\left(\\theta{\\left(t \\right)} \\right)} \\cos{\\left(\\varphi{\\left(t \\right)} \\right)} \\frac{d}{d t} \\theta{\\left(t \\right)} \\frac{d}{d t} \\varphi{\\left(t \\right)} + 3.80500630469679 \\frac{d}{d t} y{\\left(t \\right)} + 0.890249702734839 \\frac{d^{2}}{d t^{2}} y{\\left(t \\right)}\\\\- 0.54936 \\sin{\\left(\\theta{\\left(t \\right)} \\right)} - 0.00224 \\sin{\\left(2 \\theta{\\left(t \\right)} \\right)} \\left(\\frac{d}{d t} \\varphi{\\left(t \\right)}\\right)^{2} - 0.056 \\sin{\\left(\\varphi{\\left(t \\right)} \\right)} \\cos{\\left(\\theta{\\left(t \\right)} \\right)} \\frac{d}{d t} \\varphi{\\left(t \\right)} \\frac{d}{d t} x{\\left(t \\right)} + 9.8 \\cdot 10^{-7} \\sin{\\left(\\varphi{\\left(t \\right)} \\right)} \\cos{\\left(\\theta{\\left(t \\right)} \\right)} \\frac{d}{d t} y{\\left(t \\right)} + 0.056 \\sin{\\left(\\varphi{\\left(t \\right)} \\right)} \\cos{\\left(\\theta{\\left(t \\right)} \\right)} \\frac{d^{2}}{d t^{2}} y{\\left(t \\right)} + 0.056 \\cos{\\left(\\theta{\\left(t \\right)} \\right)} \\cos{\\left(\\varphi{\\left(t \\right)} \\right)} \\frac{d}{d t} \\varphi{\\left(t \\right)} \\frac{d}{d t} y{\\left(t \\right)} + 9.8 \\cdot 10^{-7} \\cos{\\left(\\theta{\\left(t \\right)} \\right)} \\cos{\\left(\\varphi{\\left(t \\right)} \\right)} \\frac{d}{d t} x{\\left(t \\right)} + 0.056 \\cos{\\left(\\theta{\\left(t \\right)} \\right)} \\cos{\\left(\\varphi{\\left(t \\right)} \\right)} \\frac{d^{2}}{d t^{2}} x{\\left(t \\right)} + 0.0200000784 \\frac{d}{d t} \\theta{\\left(t \\right)} + 0.01048 \\frac{d^{2}}{d t^{2}} \\theta{\\left(t \\right)}\\\\\\left(0.00448 \\sin^{2}{\\left(\\theta{\\left(t \\right)} \\right)} + 0.00321759809750297\\right) \\frac{d^{2}}{d t^{2}} \\varphi{\\left(t \\right)} - 9.8 \\cdot 10^{-7} \\sin{\\left(\\theta{\\left(t \\right)} \\right)} \\sin{\\left(\\varphi{\\left(t \\right)} \\right)} \\frac{d}{d t} x{\\left(t \\right)} + 9.8 \\cdot 10^{-7} \\sin{\\left(\\theta{\\left(t \\right)} \\right)} \\cos{\\left(\\varphi{\\left(t \\right)} \\right)} \\frac{d}{d t} y{\\left(t \\right)} + 0.00448 \\sin{\\left(2 \\theta{\\left(t \\right)} \\right)} \\frac{d}{d t} \\theta{\\left(t \\right)} \\frac{d}{d t} \\varphi{\\left(t \\right)} + 0.056 \\sin{\\left(\\varphi{\\left(t \\right)} \\right)} \\cos{\\left(\\theta{\\left(t \\right)} \\right)} \\frac{d}{d t} \\theta{\\left(t \\right)} \\frac{d}{d t} x{\\left(t \\right)} - 0.056 \\cos{\\left(\\theta{\\left(t \\right)} \\right)} \\cos{\\left(\\varphi{\\left(t \\right)} \\right)} \\frac{d}{d t} \\theta{\\left(t \\right)} \\frac{d}{d t} y{\\left(t \\right)} + 0.0243519619500595 \\frac{d}{d t} \\varphi{\\left(t \\right)}\\end{matrix}\\right]$"
     },
     "metadata": {},
     "output_type": "display_data"
    }
   ],
   "execution_count": 46
  },
  {
   "metadata": {},
   "cell_type": "markdown",
   "source": "### Code generation"
  },
  {
   "metadata": {
    "ExecuteTime": {
     "end_time": "2025-07-11T23:02:08.587611Z",
     "start_time": "2025-07-11T23:02:08.584678Z"
    }
   },
   "cell_type": "code",
   "source": [
    "subs_code = {\n",
    "    t: sp.Symbol(r\"t\", real=True),\n",
    "    x: sp.Symbol(r\"x\", real=True),\n",
    "    sp.Derivative(x, t): sp.Symbol(r\"x_dot\", real=True),\n",
    "    sp.Derivative(x, (t, 2)): sp.Symbol(r\"x_ddot\", real=True),\n",
    "    y: sp.Symbol(r\"y\", real=True),\n",
    "    sp.Derivative(y, t): sp.Symbol(r\"y_dot\", real=True),\n",
    "    sp.Derivative(y, (t, 2)): sp.Symbol(r\"y_ddot\", real=True),\n",
    "    theta: sp.Symbol(r\"theta\", real=True),\n",
    "    sp.Derivative(theta, t): sp.Symbol(r\"theta_dot\", real=True),\n",
    "    sp.Derivative(theta, (t, 2)): sp.Symbol(r\"theta_ddot\", real=True),\n",
    "    phi: sp.Symbol(r\"phi\", real=True),\n",
    "    sp.Derivative(phi, t): sp.Symbol(r\"phi_dot\", real=True),\n",
    "    sp.Derivative(phi, (t, 2)): sp.Symbol(r\"phi_ddot\", real=True),\n",
    "}"
   ],
   "outputs": [],
   "execution_count": 47
  },
  {
   "metadata": {
    "ExecuteTime": {
     "end_time": "2025-07-11T23:02:08.792935Z",
     "start_time": "2025-07-11T23:02:08.720034Z"
    }
   },
   "cell_type": "code",
   "source": [
    "Xc_code = Xc_sim.subs(subs_code)\n",
    "Xc_code = sp.simplify(Xc_code)\n",
    "\n",
    "# Output\n",
    "display(sp.pycode(Xc_code, strict=False))"
   ],
   "outputs": [
    {
     "data": {
      "text/plain": [
       "'ImmutableDenseMatrix([[x + 0.08*math.sin(theta)*math.cos(phi)], [y + 0.08*math.sin(phi)*math.sin(theta)], [0.08*math.cos(theta)]])'"
      ]
     },
     "metadata": {},
     "output_type": "display_data"
    }
   ],
   "execution_count": 48
  },
  {
   "metadata": {
    "ExecuteTime": {
     "end_time": "2025-07-11T23:02:08.973071Z",
     "start_time": "2025-07-11T23:02:08.875155Z"
    }
   },
   "cell_type": "code",
   "source": [
    "Xc_dot_code = Xc_dot_sim.subs(subs_code)\n",
    "Xc_dot_code = sp.simplify(Xc_dot_code)\n",
    "\n",
    "# Output\n",
    "display(sp.pycode(Xc_dot_code, strict=False))"
   ],
   "outputs": [
    {
     "data": {
      "text/plain": [
       "'ImmutableDenseMatrix([[0.08*theta_dot*math.cos(phi)*math.cos(theta) + x_dot], [0.08*theta_dot*math.sin(phi)*math.cos(theta) + y_dot], [-0.08*theta_dot*math.sin(theta)]])'"
      ]
     },
     "metadata": {},
     "output_type": "display_data"
    }
   ],
   "execution_count": 49
  },
  {
   "metadata": {
    "ExecuteTime": {
     "end_time": "2025-07-11T23:02:09.161304Z",
     "start_time": "2025-07-11T23:02:09.090875Z"
    }
   },
   "cell_type": "code",
   "source": [
    "M_code = M_sim.subs(subs_code)\n",
    "M_code = sp.simplify(M_code)\n",
    "\n",
    "# Output\n",
    "display(sp.pycode(M_code, strict=False))"
   ],
   "outputs": [
    {
     "data": {
      "text/plain": [
       "'ImmutableDenseMatrix([[0.890249702734839, 0, 0.056*math.cos(phi)*math.cos(theta), 0], [0, 0.890249702734839, 0.056*math.sin(phi)*math.cos(theta), 0], [0.056*math.cos(phi)*math.cos(theta), 0.056*math.sin(phi)*math.cos(theta), 0.01048, 0], [0, 0, 0, 0.00448*math.sin(theta)**2 + 0.00321759809750297]])'"
      ]
     },
     "metadata": {},
     "output_type": "display_data"
    }
   ],
   "execution_count": 50
  },
  {
   "metadata": {
    "ExecuteTime": {
     "end_time": "2025-07-11T23:02:09.746696Z",
     "start_time": "2025-07-11T23:02:09.235757Z"
    }
   },
   "cell_type": "code",
   "source": [
    "H_code = H_sim.subs(subs_code)\n",
    "H_code = sp.simplify(H_code)\n",
    "\n",
    "# Output\n",
    "display(sp.pycode(H_code, strict=False))"
   ],
   "outputs": [
    {
     "data": {
      "text/plain": [
       "'ImmutableDenseMatrix([[-0.056*phi_dot*theta_dot*math.sin(phi)*math.cos(theta) - 0.056*theta_dot**2*math.sin(theta)*math.cos(phi) + 9.8e-7*theta_dot*math.cos(phi)*math.cos(theta) + 3.80500630469679*x_dot], [0.056*phi_dot*theta_dot*math.cos(phi)*math.cos(theta) - 0.056*theta_dot**2*math.sin(phi)*math.sin(theta) + 9.8e-7*theta_dot*math.sin(phi)*math.cos(theta) + 3.80500630469679*y_dot], [-0.00224*phi_dot**2*math.sin(2*theta) - 0.056*phi_dot*x_dot*math.sin(phi)*math.cos(theta) + 0.056*phi_dot*y_dot*math.cos(phi)*math.cos(theta) + 0.0200000784*theta_dot + 9.8e-7*x_dot*math.cos(phi)*math.cos(theta) + 9.8e-7*y_dot*math.sin(phi)*math.cos(theta) - 0.54936*math.sin(theta)], [0.00448*phi_dot*theta_dot*math.sin(2*theta) + 0.0243519619500595*phi_dot + 0.056*theta_dot*x_dot*math.sin(phi)*math.cos(theta) - 0.056*theta_dot*y_dot*math.cos(phi)*math.cos(theta) - 9.8e-7*x_dot*math.sin(phi)*math.sin(theta) + 9.8e-7*y_dot*math.sin(theta)*math.cos(phi)]])'"
      ]
     },
     "metadata": {},
     "output_type": "display_data"
    }
   ],
   "execution_count": 51
  },
  {
   "metadata": {
    "ExecuteTime": {
     "end_time": "2025-07-12T01:24:04.523199Z",
     "start_time": "2025-07-12T01:24:04.520658Z"
    }
   },
   "cell_type": "code",
   "source": [
    "def ode_dynamics(t, f):\n",
    "    M_num = np.array(M_sim_fn(t, *f), dtype=float)\n",
    "    H_num = np.array(H_sim_fn(t, *f), dtype=float).flatten()\n",
    "\n",
    "    xdd = np.linalg.lstsq(M_num, -H_num, rcond=1.0e-8)[0]\n",
    "\n",
    "    return np.array([\n",
    "        f[1],\n",
    "        xdd[0],\n",
    "        f[3],\n",
    "        xdd[1],\n",
    "        f[5],\n",
    "        xdd[2],\n",
    "        f[7],\n",
    "        xdd[3],\n",
    "    ])"
   ],
   "outputs": [],
   "execution_count": 62
  },
  {
   "metadata": {
    "ExecuteTime": {
     "end_time": "2025-07-12T01:24:04.744466Z",
     "start_time": "2025-07-12T01:24:04.741868Z"
    }
   },
   "cell_type": "code",
   "source": [
    "def dae_dynamics(t, fq, fqd, res):\n",
    "    f = np.zeros(2 * dof)\n",
    "    f[0::2] = fq\n",
    "    f[1::2] = fqd\n",
    "\n",
    "    M_num = np.array(M_sim_fn(t, *f), dtype=float)\n",
    "    H_num = np.array(H_sim_fn(t, *f), dtype=float).flatten()\n",
    "\n",
    "    xdd = np.linalg.lstsq(M_num, -H_num, rcond=1.0e-8)[0]\n",
    "\n",
    "    return np.array([\n",
    "        f[1],\n",
    "        xdd[0],\n",
    "        f[3],\n",
    "        xdd[1],\n",
    "        f[5],\n",
    "        xdd[2],\n",
    "        f[7],\n",
    "        xdd[3],\n",
    "    ])"
   ],
   "outputs": [],
   "execution_count": 63
  },
  {
   "metadata": {
    "ExecuteTime": {
     "end_time": "2025-07-11T23:02:09.964104Z",
     "start_time": "2025-07-11T23:02:09.958574Z"
    }
   },
   "cell_type": "code",
   "source": [
    "def ode_dynamics_with_constrains(t, f, alpha=5.0, beta=5.0):\n",
    "    q_num = f[[0, 2, 4, 6]]\n",
    "    qd_num = f[[1, 3, 5, 7]]\n",
    "\n",
    "    # Dynamic model\n",
    "    M_num = np.array(M_sim_fn(t, *f), dtype=float)\n",
    "    H_num = np.array(H_sim_fn(t, *f), dtype=float).flatten()\n",
    "\n",
    "    # Constraints\n",
    "    Cons = np.array(Cons_sim_fn(t, *f), dtype=float).flatten()\n",
    "    Cons_gradq_num = np.array(Cons_gradq_sim_fn(t, *f), dtype=float)\n",
    "    Cons_dot_gradqd_num = np.array(Cons_dot_gradqd_sim_fn(t, *f), dtype=float).flatten()\n",
    "    Cons_dim = Cons.shape[0]\n",
    "\n",
    "    # Assemble augmented matrix\n",
    "    # [ M   C^T ] [ q̈ ] = [ -H       ]\n",
    "    # [ C    0  ] [ λ ]   [ -Cdot_qd ]\n",
    "    K = np.block([\n",
    "        [M_num, Cons_gradq_num.T],\n",
    "        [Cons_gradq_num, np.zeros((Cons_dim, Cons_dim))],\n",
    "    ])\n",
    "    print(K)\n",
    "    K += 1.0e-8 * np.eye(len(K))\n",
    "\n",
    "    # Assemble RHS\n",
    "    rhs_top = -H_num\n",
    "    rhs_bot = -Cons_dot_gradqd_num - 2.0 * alpha * Cons_gradq_num.dot(qd_num) - (beta ** 2.0) * Cons\n",
    "    rhs = np.concatenate([rhs_top, rhs_bot])\n",
    "\n",
    "    # Solve\n",
    "    sol_ = np.linalg.lstsq(K, -rhs, rcond=1.0e-8)[0]\n",
    "    qdd_ = sol_[:dof]\n",
    "    lmult = sol_[dof:]\n",
    "\n",
    "    return np.array([\n",
    "        f[1],\n",
    "        qdd_[0],\n",
    "        f[3],\n",
    "        qdd_[1],\n",
    "        f[5],\n",
    "        qdd_[2],\n",
    "        f[7],\n",
    "        qdd_[3],\n",
    "    ])"
   ],
   "outputs": [],
   "execution_count": 53
  },
  {
   "metadata": {},
   "cell_type": "markdown",
   "source": "### Simulation"
  },
  {
   "metadata": {
    "ExecuteTime": {
     "end_time": "2025-07-12T01:24:08.657982Z",
     "start_time": "2025-07-12T01:24:06.855668Z"
    }
   },
   "cell_type": "code",
   "source": [
    "f0 = np.zeros(8)\n",
    "f0[4] = 1.0e-8\n",
    "\n",
    "t_span = (0.0, 20.0)\n",
    "\n",
    "sol = solve_ivp(\n",
    "    ode_dynamics,\n",
    "    t_span=t_span, y0=f0,\n",
    "    method='Radau',\n",
    "    rtol=1.0e-8, atol=1.0e-9, max_step=1.0e-2,\n",
    ")\n",
    "\n",
    "sol_t = sol.t\n",
    "sol_f = sol.y\n",
    "sol_x, sol_x_dot, sol_y, sol_y_dot, sol_theta, sol_theta_dot, sol_phi, sol_phi_dot = sol_f\n",
    "\n",
    "sol"
   ],
   "outputs": [
    {
     "data": {
      "text/plain": [
       "  message: The solver successfully reached the end of the integration interval.\n",
       "  success: True\n",
       "   status: 0\n",
       "        t: [ 0.000e+00  1.000e-02 ...  2.000e+01  2.000e+01]\n",
       "        y: [[ 0.000e+00 -2.409e-12 ... -1.067e-13 -1.067e-13]\n",
       "            [ 0.000e+00 -4.748e-10 ... -5.778e-17 -5.755e-17]\n",
       "            ...\n",
       "            [ 0.000e+00  0.000e+00 ...  0.000e+00  0.000e+00]\n",
       "            [ 0.000e+00  0.000e+00 ...  0.000e+00  0.000e+00]]\n",
       "      sol: None\n",
       " t_events: None\n",
       " y_events: None\n",
       "     nfev: 19702\n",
       "     njev: 95\n",
       "      nlu: 3918"
      ]
     },
     "execution_count": 64,
     "metadata": {},
     "output_type": "execute_result"
    }
   ],
   "execution_count": 64
  },
  {
   "metadata": {
    "ExecuteTime": {
     "end_time": "2025-07-12T01:24:17.875362Z",
     "start_time": "2025-07-12T01:24:17.872454Z"
    }
   },
   "cell_type": "code",
   "source": "sol_f.shape",
   "outputs": [
    {
     "data": {
      "text/plain": [
       "(8, 2520)"
      ]
     },
     "execution_count": 66,
     "metadata": {},
     "output_type": "execute_result"
    }
   ],
   "execution_count": 66
  },
  {
   "metadata": {
    "ExecuteTime": {
     "end_time": "2025-07-11T23:02:11.933526Z",
     "start_time": "2025-07-11T23:02:11.922441Z"
    }
   },
   "cell_type": "code",
   "source": [
    "DOF = 4  # q has 4 coords: x, y, theta, phi\n",
    "N = 2 * DOF  # no constraints => 8 state variables\n",
    "\n",
    "# indices for position and velocity in the state vector y\n",
    "pos_idx = [0, 2, 4, 6]\n",
    "vel_idx = [1, 3, 5, 7]\n",
    "\n",
    "\n",
    "def resfn(t, f, fd, res):\n",
    "    M_num = np.array(M_sim_fn(t, *f), dtype=float)\n",
    "    H_num = np.array(H_sim_fn(t, *f), dtype=float).flatten()\n",
    "\n",
    "    xdd = np.linalg.lstsq(M_num, -H_num, rcond=1.0e-8)[0]\n",
    "\n",
    "    res = np.array([\n",
    "        f[1],\n",
    "        xdd[0],\n",
    "        f[3],\n",
    "        xdd[1],\n",
    "        f[5],\n",
    "        xdd[2],\n",
    "        f[7],\n",
    "        xdd[3],\n",
    "    ])\n",
    "\n",
    "\n",
    "f0  = np.zeros(N)\n",
    "# f0[4] = 1.0e-8\n",
    "\n",
    "# M0 = M_sim_fn(0.0, *f0[:2 * dof])\n",
    "# F0 = H_sim_fn(0.0, *f0[:2 * dof])\n",
    "# fd0_sol = np.linalg.solve(M0, F0).flatten()\n",
    "fd0 = np.zeros(N)\n",
    "# fd0[0:2 * dof:2] = f0[1::2]\n",
    "# fd0[1:2 * dof:2] = fd0_sol\n",
    "\n",
    "solver = IDA(\n",
    "    resfn,\n",
    "    # algebraic_idx=[4],\n",
    "    atol=1e-8,\n",
    ")\n",
    "\n",
    "sol = solver.solve(t_span, f0, fd0)\n",
    "\n",
    "sol"
   ],
   "outputs": [
    {
     "name": "stdout",
     "output_type": "stream",
     "text": [
      "\n",
      "[IDAHandleFailure, Error: -4] At t = 0 and h = 7.62939e-08, the corrector convergence failed repeatedly or with |h| = hmin.\n",
      "\n"
     ]
    },
    {
     "data": {
      "text/plain": [
       "\n",
       "   message: Convergence tests failed too many times, or reached min step size.\n",
       "   success: False\n",
       "    status: -4\n",
       "         t: [ 0.000e+00  0.000e+00]\n",
       "         y: [[ 0.000e+00  0.000e+00 ...  0.000e+00  0.000e+00]\n",
       "             [ 0.000e+00  0.000e+00 ...  0.000e+00  0.000e+00]]\n",
       "        yp: [[ 0.000e+00  0.000e+00 ...  0.000e+00  0.000e+00]\n",
       "             [ 0.000e+00  0.000e+00 ...  0.000e+00  0.000e+00]]\n",
       "  i_events: None\n",
       "  t_events: None\n",
       "  y_events: None\n",
       " yp_events: None\n",
       "      nfev: 10\n",
       "      njev: 10"
      ]
     },
     "execution_count": 55,
     "metadata": {},
     "output_type": "execute_result"
    }
   ],
   "execution_count": 55
  },
  {
   "metadata": {
    "ExecuteTime": {
     "end_time": "2025-07-11T23:02:12.117337Z",
     "start_time": "2025-07-11T23:02:12.028834Z"
    }
   },
   "cell_type": "code",
   "source": [
    "sol_xo = np.array([Xo_fn(sol_t[i], *sol_f[:, i], *params_sim.values()) for i in range(len(sol_t))]).reshape((len(sol_t), 3))\n",
    "sol_xo_dot = np.array([Xo_dot_fn(sol_t[i], *sol_f[:, i], *params_sim.values()) for i in range(len(sol_t))]).reshape((len(sol_t), 3))\n",
    "sol_xc = np.array([Xc_fn(sol_t[i], *sol_f[:, i], *params_sim.values()) for i in range(len(sol_t))]).reshape((len(sol_t), 3))\n",
    "sol_xc_dot = np.array([Xc_dot_fn(sol_t[i], *sol_f[:, i], *params_sim.values()) for i in range(len(sol_t))]).reshape((len(sol_t), 3))"
   ],
   "outputs": [],
   "execution_count": 56
  },
  {
   "metadata": {
    "ExecuteTime": {
     "end_time": "2025-07-11T23:02:12.548660Z",
     "start_time": "2025-07-11T23:02:12.280265Z"
    }
   },
   "cell_type": "code",
   "source": [
    "plt.figure(figsize=(15, 5))\n",
    "\n",
    "plt.plot(sol_t, sol_x, label=r'$x(t)$')\n",
    "plt.plot(sol_t, sol_y, label=r'$y(t)$')\n",
    "plt.plot(sol_t, sol_theta, label=r'$\\theta(t)$')\n",
    "plt.plot(sol_t, sol_phi, label=r'$\\varphi(t)$')\n",
    "\n",
    "plt.axhline(y=np.pi, linestyle='--', color='gray', label=r'$\\pi$')\n",
    "plt.axhline(y=-np.pi, linestyle='--', color='gray', label=r'$-\\pi$')\n",
    "\n",
    "plt.xlabel('Time $t$')\n",
    "plt.ylabel('State values')\n",
    "plt.title('Evolution of state')\n",
    "plt.legend()\n",
    "plt.grid(True)\n",
    "plt.tight_layout()\n",
    "plt.show()"
   ],
   "outputs": [
    {
     "data": {
      "text/plain": [
       "<Figure size 1500x500 with 1 Axes>"
      ],
      "image/png": "[encoded data removed]"
     },
     "metadata": {},
     "output_type": "display_data"
    }
   ],
   "execution_count": 57
  },
  {
   "metadata": {
    "ExecuteTime": {
     "end_time": "2025-07-11T23:02:12.820620Z",
     "start_time": "2025-07-11T23:02:12.656799Z"
    }
   },
   "cell_type": "code",
   "source": [
    "plt.figure(figsize=(15, 5))\n",
    "\n",
    "plt.plot(sol_t, sol_xo, label=[r'$x_o(t)$', r'$y_o(t)$', r'$z_o(t)$'])\n",
    "# plt.plot(sol_t, sol_x, label=r'$x(t)$')\n",
    "\n",
    "plt.xlabel('Time $t$')\n",
    "plt.ylabel('State values')\n",
    "plt.title('Evolution of states')\n",
    "plt.legend()\n",
    "plt.grid(True)\n",
    "plt.tight_layout()\n",
    "plt.show()"
   ],
   "outputs": [
    {
     "data": {
      "text/plain": [
       "<Figure size 1500x500 with 1 Axes>"
      ],
      "image/png": "[encoded data removed]"
     },
     "metadata": {},
     "output_type": "display_data"
    }
   ],
   "execution_count": 58
  },
  {
   "metadata": {
    "ExecuteTime": {
     "end_time": "2025-07-11T23:02:13.095982Z",
     "start_time": "2025-07-11T23:02:12.928976Z"
    }
   },
   "cell_type": "code",
   "source": [
    "plt.figure(figsize=(15, 5))\n",
    "\n",
    "plt.plot(sol_t, sol_xc - sol_xo, label=[r'$x_c(t)$', r'$y_c(t)$', r'$z_c(t)$'])\n",
    "\n",
    "plt.xlabel('Time $t$')\n",
    "plt.ylabel('State values')\n",
    "plt.title('Evolution of states')\n",
    "plt.legend()\n",
    "plt.grid(True)\n",
    "plt.tight_layout()\n",
    "plt.show()"
   ],
   "outputs": [
    {
     "data": {
      "text/plain": [
       "<Figure size 1500x500 with 1 Axes>"
      ],
      "image/png": "[encoded data removed]"
     },
     "metadata": {},
     "output_type": "display_data"
    }
   ],
   "execution_count": 59
  },
  {
   "metadata": {
    "ExecuteTime": {
     "end_time": "2025-07-11T23:02:13.372735Z",
     "start_time": "2025-07-11T23:02:13.218570Z"
    }
   },
   "cell_type": "code",
   "source": [
    "plt.figure(figsize=(15, 5))\n",
    "\n",
    "plt.plot(sol_t, sol_xc, label=[r'$x(t)$', r'$y(t)$', r'$z(t)$'])\n",
    "\n",
    "plt.xlabel('Time $t$')\n",
    "plt.ylabel('State values')\n",
    "plt.title('Evolution of states')\n",
    "plt.legend()\n",
    "plt.grid(True)\n",
    "plt.tight_layout()\n",
    "plt.show()"
   ],
   "outputs": [
    {
     "data": {
      "text/plain": [
       "<Figure size 1500x500 with 1 Axes>"
      ],
      "image/png": "[encoded data removed]"
     },
     "metadata": {},
     "output_type": "display_data"
    }
   ],
   "execution_count": 60
  },
  {
   "metadata": {
    "ExecuteTime": {
     "end_time": "2025-07-11T23:02:13.495736Z",
     "start_time": "2025-07-11T23:02:13.493366Z"
    }
   },
   "cell_type": "code",
   "source": "",
   "outputs": [],
   "execution_count": null
  }
 ]
}
